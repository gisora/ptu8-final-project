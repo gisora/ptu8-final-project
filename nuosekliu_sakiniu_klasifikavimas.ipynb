{
 "cells": [
  {
   "attachments": {},
   "cell_type": "markdown",
   "metadata": {},
   "source": [
    "# Nuoseklių sakinių klasifikavimas atsitiktinių imčių medicininių tyrimų santraukose"
   ]
  },
  {
   "attachments": {},
   "cell_type": "markdown",
   "metadata": {},
   "source": [
    "## Santrauka"
   ]
  },
  {
   "attachments": {},
   "cell_type": "markdown",
   "metadata": {},
   "source": [
    "### Tikslas"
   ]
  },
  {
   "attachments": {},
   "cell_type": "markdown",
   "metadata": {},
   "source": [
    "Sukurti natūralios kalbos apdorojimo (*angl. Natural Language Processing*, **NLP**) modelį, kuris palengvintų medicininių tyrimų publikacijų santraukų skaitymą."
   ]
  },
  {
   "attachments": {},
   "cell_type": "markdown",
   "metadata": {},
   "source": [
    "### Metodas"
   ]
  },
  {
   "cell_type": "markdown",
   "metadata": {},
   "source": []
  },
  {
   "cell_type": "markdown",
   "metadata": {},
   "source": [
    "### Rezultatas"
   ]
  },
  {
   "cell_type": "markdown",
   "metadata": {},
   "source": []
  },
  {
   "attachments": {},
   "cell_type": "markdown",
   "metadata": {},
   "source": [
    "### Išvada"
   ]
  },
  {
   "cell_type": "markdown",
   "metadata": {},
   "source": []
  },
  {
   "attachments": {},
   "cell_type": "markdown",
   "metadata": {},
   "source": [
    "### Bibliotekų importavimas"
   ]
  },
  {
   "cell_type": "code",
   "execution_count": 11,
   "metadata": {},
   "outputs": [
    {
     "name": "stderr",
     "output_type": "stream",
     "text": [
      "2023-03-13 16:01:20.584540: I tensorflow/core/platform/cpu_feature_guard.cc:193] This TensorFlow binary is optimized with oneAPI Deep Neural Network Library (oneDNN) to use the following CPU instructions in performance-critical operations:  AVX2 FMA\n",
      "To enable them in other operations, rebuild TensorFlow with the appropriate compiler flags.\n"
     ]
    }
   ],
   "source": [
    "import os\n",
    "import tensorflow as tf\n",
    "import pandas as pd\n",
    "import matplotlib.pyplot as plt"
   ]
  },
  {
   "attachments": {},
   "cell_type": "markdown",
   "metadata": {},
   "source": [
    "## 1. Įvadas"
   ]
  },
  {
   "attachments": {},
   "cell_type": "markdown",
   "metadata": {},
   "source": [
    "2010 metais straipsnyje autorius *A. Jinha* teigė, kad tuo metu buvo publikuota daugiau nei **50 milijonų mokslinių straipsnių**, iš kurių maždaug pusė biomedicinos temomis. 2014 metais atliktame tyrime *M. Khabsa ir C.L. Giles* suskaičiavo: akademinėse paieškose *Google Scholar* ir *Microsoft Academic Search* yra prieinama apie **114 milijonų anglų kalba parašytų mokslinių publikacijų**.\n",
    "\n",
    "Kiekvienais metais publikuojamų atsitiktinių imčių medicininių tyrimų skaičius tik auga, todėl medicinos specialistams tampa vis sunkiau aptikti jiems reikiamą informaciją. Pavyzdžiui, kai tyrinėtojai ieško ankstesnės literatūros, jie dažnai perskaito santraukas, kad greitai patikrintų, ar straipsniai atitinka jų kriterijus. Šis procesas yra lengvesnis jei santrauka yra **struktūrizuota**, t.y. padalinima į semantines antraštes (etikėtes), tokias kaip **tikslas, metodas, rezultatas ir išvada**. \n",
    "\n",
    "Kiekvieną santraukos sakinį suskirstę į atitinkamą antraštę galime žymiai sutrumpinti norimos informacijos radimo laiką, šis procesas vadinamas nuoseklių sakinių klasifikavimu. Šiame darbe įgyvendinama dirbtiniais neuroniniais tinklais pagrįsta sistema, skirta nuoseklaus sakinio klasifikavimo užduočiai panaudojant [PubMed 200k RCT](https://arxiv.org/pdf/1710.06071.pdf) duomenų rinkinį. Darbas atliekamas remiantis autorių Franck Dernoncourt, Ji Young Lee ir Peter Szolovits 2017 metų publikacija \"[Neural Networks for Joint Sentence Classification in Medical Paper Abstracts](https://arxiv.org/pdf/1612.05251)\".\n",
    "\n",
    "TENSORFLOW"
   ]
  },
  {
   "attachments": {},
   "cell_type": "markdown",
   "metadata": {},
   "source": [
    "## 2. Duomenų rinkinys (*angl. dataset*)"
   ]
  },
  {
   "attachments": {},
   "cell_type": "markdown",
   "metadata": {},
   "source": [
    "\n",
    "[PubMed 200k RCT](https://arxiv.org/pdf/1710.06071.pdf) duomenų rinkinys sudaryta iš viešai prieinamos bibliotekos [PubMed](https://pubmed.ncbi.nlm.nih.gov/) įrašų ir yra skirtas nuosekliam sakinių klasifikavimui atsitiktinės imties kontroliuojamų medicininių tyrimų santraukose. Duomenų rinkinys susideda iš maždaug 200 000 santraukų, kurias sudaro apie  2,3 mln. sakinių. Kiekvienas sakinys yra pažymėtas etikėte, nurodančia sakinio reikšmę santraukoje:\n",
    "- **background** - kilmė, ištakos\n",
    "- **objective** - tikslas\n",
    "- **methods** - metodas\n",
    "- **results** - rezultatas\n",
    "- **conclusions** - išvada\n",
    "\n",
    "Duomenų rinkinio publikavimas turi dvi paskirtis:\n",
    "- dauguma esamų nuoseklių sakinių klasifikavimui skirtų duomenų rinkinių yra nedideli arba viešai neprieinami, todėl sudėtingiau sukurti tikslesnius klasifikavimo algoritmus;\n",
    "- tyrėjams reikia geresnių įrankių efektyvesniam mokslinės literatūros skaitymui.\n"
   ]
  },
  {
   "attachments": {},
   "cell_type": "markdown",
   "metadata": {},
   "source": [
    "### 2.1. Duomenų rinkinio atsiuntimas"
   ]
  },
  {
   "attachments": {},
   "cell_type": "markdown",
   "metadata": {},
   "source": [
    "Duomenų rinkinys yra viešai prienamas vieno iš autorių [GitHub repozitorijoje](https://github.com/Franck-Dernoncourt/pubmed-rct)"
   ]
  },
  {
   "cell_type": "code",
   "execution_count": null,
   "metadata": {},
   "outputs": [],
   "source": [
    "!git clone https://github.com/Franck-Dernoncourt/pubmed-rct"
   ]
  },
  {
   "cell_type": "code",
   "execution_count": 5,
   "metadata": {},
   "outputs": [
    {
     "name": "stdout",
     "output_type": "stream",
     "text": [
      "PubMed_200k_RCT\n",
      "PubMed_200k_RCT_numbers_replaced_with_at_sign\n",
      "PubMed_20k_RCT\n",
      "PubMed_20k_RCT_numbers_replaced_with_at_sign\n",
      "README.md\n"
     ]
    }
   ],
   "source": [
    "!ls pubmed-rct"
   ]
  },
  {
   "attachments": {},
   "cell_type": "markdown",
   "metadata": {},
   "source": [
    "Pagrindinis duomenų rinkinys **PubMed_200k_RCT** kai kuriais atvejais gali būti per didelis, todėl papildomai yra pateikiamas **PubMed 20k RCT** rinkinys, sudarytas iš 10% pagrindiniame rinkinyje esančių vėliausiai publikuotų tyrimų santraukų.\n",
    "\n",
    "Taip pat pateikiamos dvi kiekvieno rinkinio versijos:\n",
    "- visas originalus tekstas,\n",
    "- tekste esantys skaičiai pakeisti @ simboliu.\n"
   ]
  },
  {
   "attachments": {},
   "cell_type": "markdown",
   "metadata": {},
   "source": [
    "### 2.2. Duomenų rinkinio formatas"
   ]
  },
  {
   "cell_type": "code",
   "execution_count": 3,
   "metadata": {},
   "outputs": [
    {
     "name": "stdout",
     "output_type": "stream",
     "text": [
      "dev.txt  test.txt  train.txt\n"
     ]
    }
   ],
   "source": [
    "!ls pubmed-rct/PubMed_20k_RCT/"
   ]
  },
  {
   "cell_type": "code",
   "execution_count": 4,
   "metadata": {},
   "outputs": [
    {
     "name": "stdout",
     "output_type": "stream",
     "text": [
      "dev.txt  test.txt  train.7z\n"
     ]
    }
   ],
   "source": [
    "!ls pubmed-rct/PubMed_200k_RCT/"
   ]
  },
  {
   "attachments": {},
   "cell_type": "markdown",
   "metadata": {},
   "source": [
    "Rinkinio aplankuose mes rasime po tris failus:\n",
    "- **train.txt** arba **train.zip** - modelio mokymo santraukų failas\n",
    "- **test.txt** - modelio testavimo santraukų rinkinys\n",
    "- **dev.txt** - modelio įvertinimo (*angl. validation*) santraukų rinkinys"
   ]
  },
  {
   "attachments": {},
   "cell_type": "markdown",
   "metadata": {},
   "source": [
    "### 2.3. Duomenų rinkinio failo formatas"
   ]
  },
  {
   "attachments": {},
   "cell_type": "markdown",
   "metadata": {},
   "source": [
    "Kiekvienas failas turi tą patį formatą:\n",
    "- PMID (PubMed ID) eilutė - santraukos pradžia, publikacijos ID PubMed bibliotekoje;\n",
    "- santraukos sakiniai atskirose eilutėse, kiekvienos pradžioje didžiosiomis raidėmis sakinio etiketė ir santraukos sakinys atskirti tabuliacijos simboliu (*angl. tab*);\n",
    "- tuščia eilutė - santraukos pabaiga.\n"
   ]
  },
  {
   "cell_type": "code",
   "execution_count": 12,
   "metadata": {},
   "outputs": [
    {
     "data": {
      "text/plain": [
       "['###24845963\\n',\n",
       " 'BACKGROUND\\tThis study analyzed liver function abnormalities in heart failure patients admitted with severe acute decompensated heart failure ( ADHF ) .\\n',\n",
       " 'RESULTS\\tA post hoc analysis was conducted with the use of data from the Evaluation Study of Congestive Heart Failure and Pulmonary Artery Catheterization Effectiveness ( ESCAPE ) .\\n',\n",
       " 'RESULTS\\tLiver function tests ( LFTs ) were measured at 7 time points from baseline , at discharge , and up to 6 months follow-up .\\n',\n",
       " 'RESULTS\\tSurvival analyses were used to assess the association between admission Model of End-Stage Liver Disease Excluding International Normalized Ratio ( MELD-XI ) scores and patient outcome.There was a high prevalence of abnormal baseline ( admission ) LFTs ( albumin 23.8 % , aspartate transaminase 23.5 % , alanine transaminase 23.8 % , and total bilirubin 36.1 % ) .\\n',\n",
       " \"RESULTS\\tThe percentage of patients with abnormal LFTs decreased significantly from baseline to 6-months ' follow-up .\\n\",\n",
       " 'RESULTS\\tWhen mean hemodynamic profiles were compared in patients with abnormal versus normal LFTs , elevated total bilirubin was associated with a significantly lower cardiac index ( 1.80 vs 2.1 ; P < .001 ) and higher central venous pressure ( 14.2 vs 12.0 ; P = .03 ) .\\n',\n",
       " 'RESULTS\\tMultivariable analyses revealed that patients with elevated MELD-XI scores ( 16.8 ) had a 2-fold ( hazard ratio2 .06 , 95 % confidence interval 1.05-4 .03 ) increased risk of death , rehospitalization , or transplantation after adjusting for baseline LFTs , age , sex , race , body mass index , diabetes , and systolic blood pressure .\\n',\n",
       " 'CONCLUSIONS\\tAbnormal LFTs are common in the ADHF population and are a dynamic marker of an impaired hemodynamic state .\\n',\n",
       " 'CONCLUSIONS\\tElevated MELD-XI scores are associated with poor outcomes among patients admitted with ADHF .\\n',\n",
       " '\\n',\n",
       " '###24469619\\n',\n",
       " 'BACKGROUND\\tMinimally invasive endovascular aneurysm repair ( EVAR ) could be a surgical technique that improves outcome of patients with ruptured abdominal aortic aneurysm ( rAAA ) .\\n',\n",
       " 'BACKGROUND\\tThe aim of this study was to analyse the cost-effectiveness and cost-utility of EVAR compared with standard open repair ( OR ) in the treatment of rAAA , with costs per 30-day and 6-month survivor as outcome parameters .\\n',\n",
       " 'METHODS\\tResource use was determined from the Amsterdam Acute Aneurysm ( AJAX ) trial , a multicentre randomized trial comparing EVAR with OR in patients with rAAA .\\n',\n",
       " 'METHODS\\tThe analysis was performed from a provider perspective .\\n',\n",
       " 'METHODS\\tAll costs were calculated as if all patients had been treated in the same hospital ( Onze Lieve Vrouwe Gasthuis , teaching hospital ) .\\n',\n",
       " 'RESULTS\\tA total of 116 patients were randomized .\\n',\n",
       " 'RESULTS\\tThe 30-day mortality rate was 21 per cent after EVAR and 25 per cent for OR : absolute risk reduction ( ARR ) 44 ( 95 per cent confidence interval ( c.i. ) -110 to 197 ) per cent .\\n',\n",
       " 'RESULTS\\tAt 6months , the total mortality rate for EVAR was 28 per cent , compared with 31 per cent among those assigned to OR : ARR 24 ( -142 to 190 ) per cent .\\n']"
      ]
     },
     "execution_count": 12,
     "metadata": {},
     "output_type": "execute_result"
    }
   ],
   "source": [
    "FOLDER_PATH = \"pubmed-rct/PubMed_20k_RCT/\"\n",
    "FILE_PATH = os.path.join(FOLDER_PATH, \"test.txt\")\n",
    "\n",
    "# nuskaitom visas failo eilutes į sąrašą file_lines\n",
    "with open(FILE_PATH, \"r\") as f:\n",
    "    file_lines = f.readlines()\n",
    "\n",
    "# išvedam 20 pirmų failo eilučių\n",
    "file_lines[:20]"
   ]
  },
  {
   "attachments": {},
   "cell_type": "markdown",
   "metadata": {},
   "source": [
    "### Dataset padalinimas"
   ]
  },
  {
   "attachments": {},
   "cell_type": "markdown",
   "metadata": {},
   "source": [
    "Pagrindinį PubMed 200k RCT duomenų rinkinį sudaro 195 654 santraukos, kurios atsitiktine tvarka suskirstytos į tris rinkinius:\n",
    "validation (modelio įvertinimo) - 2500 santraukų,\n",
    "test (testavimo/modelio bandymo) - 2500 santraukų,\n",
    "train (modelio mokymo) - likusios 190 654 santraukos.\n",
    "\n",
    "Pagrindinis duomenų rinkinys kai kuriais atvejais gali būti per didelis, todėl papildomai yra pateikiamas PubMed 20k RCT rinkinys, kuriame 15 tūkst. train ir po 2500 test bei validation santraukų. Šis rinkinys buvo sudarytas iš pagrindiniame rinkinyje esančių vėliausiai publikuotų tyrimų santraukų.\n",
    "\n",
    "Taip pat pateikiamos dvi kiekvieno rinkinio versijos:\n",
    "visas originalus tekstas,\n",
    "tekste esantys skaičiai pakeisti @ simboliu.\n"
   ]
  },
  {
   "attachments": {},
   "cell_type": "markdown",
   "metadata": {},
   "source": [
    "## Bazinis modelis"
   ]
  },
  {
   "cell_type": "markdown",
   "metadata": {},
   "source": []
  }
 ],
 "metadata": {
  "kernelspec": {
   "display_name": "tf-py38",
   "language": "python",
   "name": "python3"
  },
  "language_info": {
   "codemirror_mode": {
    "name": "ipython",
    "version": 3
   },
   "file_extension": ".py",
   "mimetype": "text/x-python",
   "name": "python",
   "nbconvert_exporter": "python",
   "pygments_lexer": "ipython3",
   "version": "3.8.16"
  },
  "orig_nbformat": 4
 },
 "nbformat": 4,
 "nbformat_minor": 2
}
