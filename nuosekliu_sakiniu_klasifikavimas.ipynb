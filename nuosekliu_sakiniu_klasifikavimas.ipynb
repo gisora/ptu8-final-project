{
 "cells": [
  {
   "attachments": {},
   "cell_type": "markdown",
   "metadata": {},
   "source": [
    "# Nuoseklių sakinių klasifikavimas atsitiktinių imčių medicininių tyrimų santraukose"
   ]
  },
  {
   "attachments": {},
   "cell_type": "markdown",
   "metadata": {},
   "source": [
    "---"
   ]
  },
  {
   "attachments": {},
   "cell_type": "markdown",
   "metadata": {},
   "source": [
    "## Santrauka"
   ]
  },
  {
   "attachments": {},
   "cell_type": "markdown",
   "metadata": {},
   "source": [
    "**Tikslas:** sukurti natūralios kalbos apdorojimo (*angl. Natural Language Processing*, **NLP**) modelį, kuris palengvintų medicininių tyrimų publikacijų santraukų skaitymą."
   ]
  },
  {
   "attachments": {},
   "cell_type": "markdown",
   "metadata": {},
   "source": [
    "**Metodai:**\n",
    "- teksto vektorizacija\n",
    "- scikit-learn modelio kūrimas\n",
    "- Google TensorFlow modelių kūrimas"
   ]
  },
  {
   "attachments": {},
   "cell_type": "markdown",
   "metadata": {},
   "source": [
    "**Rezultatas:** TODO"
   ]
  },
  {
   "attachments": {},
   "cell_type": "markdown",
   "metadata": {},
   "source": [
    "**Išvada:** TODO"
   ]
  },
  {
   "attachments": {},
   "cell_type": "markdown",
   "metadata": {},
   "source": [
    "### Bibliotekų importavimas"
   ]
  },
  {
   "cell_type": "code",
   "execution_count": 1,
   "metadata": {},
   "outputs": [
    {
     "name": "stderr",
     "output_type": "stream",
     "text": [
      "2023-03-15 22:18:07.301391: I tensorflow/core/platform/cpu_feature_guard.cc:193] This TensorFlow binary is optimized with oneAPI Deep Neural Network Library (oneDNN) to use the following CPU instructions in performance-critical operations:  AVX2 FMA\n",
      "To enable them in other operations, rebuild TensorFlow with the appropriate compiler flags.\n"
     ]
    }
   ],
   "source": [
    "import os\n",
    "import numpy as np\n",
    "import pandas as pd\n",
    "import matplotlib.pyplot as plt\n",
    "import tensorflow as tf\n",
    "from tensorflow.keras import layers"
   ]
  },
  {
   "cell_type": "code",
   "execution_count": 2,
   "metadata": {},
   "outputs": [],
   "source": [
    "# išjungiam TensorFlow įspėjimų (warnings) vaizdavimą rezultatuose\n",
    "tf.compat.v1.logging.set_verbosity(tf.compat.v1.logging.ERROR)"
   ]
  },
  {
   "attachments": {},
   "cell_type": "markdown",
   "metadata": {},
   "source": [
    "## Įvadas"
   ]
  },
  {
   "attachments": {},
   "cell_type": "markdown",
   "metadata": {},
   "source": [
    "Kiekvienais metais publikuojamų medicininių tyrimų skaičius tik auga, todėl medicinos specialistams tampa vis sunkiau greitai aptikti jiems reikiamą informaciją. Tyrinėtojai nagrinėdami ankstesnes publikacijas, dažniausiai perskaito tik santraukas, norėdami greitai patikrinti, ar straipsniai atitinka jų kriterijus. Šis procesas yra lengvesnis ir greitesnis jei santrauka yra **struktūrizuota**, t.y. padalinima į semantines antraštes (etikėtes), tokias kaip **tikslas, metodas, rezultatas ir išvada**. \n",
    "\n",
    "Kiekvieno santraukos sakinio suskirstymas į atitinkamą antraštę vadinamas nuoseklių sakinių klasifikavimu. Šiai  užduočiai atlikti šiame darbe įgyvendinama dirbtinio neuroninio tinklo (*angl. artificial neural network*, **ANN**) modeliu pagrįsta sistema.\n",
    "\n",
    "Darbas atliekamas remiantis **Franck Dernoncourt**, **Ji Young Lee** ir **Peter Szolovits** 2017 metų publikacija \"[**Neural Networks for Joint Sentence Classification in Medical Paper Abstracts**](https://arxiv.org/pdf/1612.05251)\".\n",
    "\n",
    "Neuroninių modelių kūrimui naudojama atviro kodo mašininio mokymo ir dirbtinio intelekto biblioteka [**Google TensorFlow**](https://www.tensorflow.org/)."
   ]
  },
  {
   "attachments": {},
   "cell_type": "markdown",
   "metadata": {},
   "source": [
    "---"
   ]
  },
  {
   "attachments": {},
   "cell_type": "markdown",
   "metadata": {},
   "source": [
    "## Duomenų rinkinys (*angl. dataset*)"
   ]
  },
  {
   "attachments": {},
   "cell_type": "markdown",
   "metadata": {},
   "source": [
    "\n",
    "[**PubMed 200k RCT**](https://arxiv.org/pdf/1710.06071.pdf) duomenų rinkinys sudaryta iš viešai prieinamos bibliotekos [PubMed](https://pubmed.ncbi.nlm.nih.gov/) įrašų ir yra skirtas nuosekliam sakinių klasifikavimui atsitiktinės imties kontroliuojamų medicininių tyrimų santraukose. Duomenų rinkinys susideda iš ~200 tūkst. santraukų, kurias sudaro apie  2,3 mln. sakinių.\n",
    "\n",
    "Kiekvienas sakinys yra pažymėtas etikėte, nurodančia sakinio reikšmę santraukoje:\n",
    "- **background** - kilmė, ištakos\n",
    "- **objective** - tikslas\n",
    "- **methods** - metodai\n",
    "- **results** - rezultatai\n",
    "- **conclusions** - išvados\n",
    "\n",
    "Rinkinys yra viešai prieinamas [**GitHub repozitorijoje**](https://github.com/Franck-Dernoncourt/pubmed-rct)"
   ]
  },
  {
   "attachments": {},
   "cell_type": "markdown",
   "metadata": {},
   "source": [
    "### Atsiuntimas"
   ]
  },
  {
   "cell_type": "code",
   "execution_count": 3,
   "metadata": {},
   "outputs": [
    {
     "name": "stdout",
     "output_type": "stream",
     "text": [
      "fatal: destination path 'pubmed-rct' already exists and is not an empty directory.\n"
     ]
    }
   ],
   "source": [
    "!git clone https://github.com/Franck-Dernoncourt/pubmed-rct"
   ]
  },
  {
   "attachments": {},
   "cell_type": "markdown",
   "metadata": {},
   "source": [
    "### Struktūra"
   ]
  },
  {
   "cell_type": "code",
   "execution_count": 4,
   "metadata": {},
   "outputs": [
    {
     "name": "stdout",
     "output_type": "stream",
     "text": [
      "PubMed_200k_RCT\n",
      "PubMed_200k_RCT_numbers_replaced_with_at_sign\n",
      "PubMed_20k_RCT\n",
      "PubMed_20k_RCT_numbers_replaced_with_at_sign\n",
      "README.md\n"
     ]
    }
   ],
   "source": [
    "!ls pubmed-rct"
   ]
  },
  {
   "attachments": {},
   "cell_type": "markdown",
   "metadata": {},
   "source": [
    "Pagrindinis duomenų rinkinys **PubMed 200k RCT** kai kuriais atvejais gali būti per didelis, todėl papildomai yra pateikiamas **PubMed 20k RCT** rinkinys, sudarytas iš 10% pagrindiniame rinkinyje esančių vėliausiai publikuotų tyrimų santraukų.\n",
    "\n",
    "Šalia duomenų rinkinių su originaliu tekstu, pateikiamos versijos, kuriose santraukų tekste esantys skaičiai pakeisti @ simboliu."
   ]
  },
  {
   "cell_type": "code",
   "execution_count": 5,
   "metadata": {},
   "outputs": [
    {
     "name": "stdout",
     "output_type": "stream",
     "text": [
      "dev.txt  test.txt  train.txt\n"
     ]
    }
   ],
   "source": [
    "!ls pubmed-rct/PubMed_20k_RCT/"
   ]
  },
  {
   "cell_type": "code",
   "execution_count": 6,
   "metadata": {},
   "outputs": [
    {
     "name": "stdout",
     "output_type": "stream",
     "text": [
      "dev.txt  test.txt  train.7z\n"
     ]
    }
   ],
   "source": [
    "!ls pubmed-rct/PubMed_200k_RCT/"
   ]
  },
  {
   "attachments": {},
   "cell_type": "markdown",
   "metadata": {},
   "source": [
    "Rinkinio aplankuose yra po tris failus:\n",
    "- **train.txt** (**train.7z**) - mokymo santraukų rinkinys,\n",
    "- **test.txt** - testavimo santraukų rinkinys,\n",
    "- **dev.txt** - modelio įvertinimo (*angl. validation*) rinkinys."
   ]
  },
  {
   "attachments": {},
   "cell_type": "markdown",
   "metadata": {},
   "source": [
    "### Failo formatas"
   ]
  },
  {
   "cell_type": "code",
   "execution_count": 7,
   "metadata": {},
   "outputs": [],
   "source": [
    "def get_all_lines(filename: str) -> list:\n",
    "    \"\"\"\n",
    "    Grąžina nuskaityto tekstinio failo  filename  eilutes string sąraše\n",
    "    \"\"\"\n",
    "\n",
    "    with open(filename, \"r\") as f:\n",
    "        return f.readlines()"
   ]
  },
  {
   "attachments": {},
   "cell_type": "markdown",
   "metadata": {},
   "source": [
    "Kiekvienas failas turi tą patį formatą:\n",
    "- **PMID eilutė** - santraukos pradžia, publikacijos *identifikavimo numeris PubMed* bibliotekoje;\n",
    "- **santraukos sakiniai** atskirose eilutėse, kiekvienos pradžioje didžiosiomis raidėmis sakinio etiketė ir santraukos sakinio tekstas atskirti tabuliacijos simboliu (*angl. tab*);\n",
    "- **tuščia eilutė** - santraukos pabaiga.\n"
   ]
  },
  {
   "cell_type": "code",
   "execution_count": 8,
   "metadata": {},
   "outputs": [
    {
     "data": {
      "text/plain": [
       "['###24845963\\n',\n",
       " 'BACKGROUND\\tThis study analyzed liver function abnormalities in heart failure patients admitted with severe acute decompensated heart failure ( ADHF ) .\\n',\n",
       " 'RESULTS\\tA post hoc analysis was conducted with the use of data from the Evaluation Study of Congestive Heart Failure and Pulmonary Artery Catheterization Effectiveness ( ESCAPE ) .\\n',\n",
       " 'RESULTS\\tLiver function tests ( LFTs ) were measured at 7 time points from baseline , at discharge , and up to 6 months follow-up .\\n',\n",
       " 'RESULTS\\tSurvival analyses were used to assess the association between admission Model of End-Stage Liver Disease Excluding International Normalized Ratio ( MELD-XI ) scores and patient outcome.There was a high prevalence of abnormal baseline ( admission ) LFTs ( albumin 23.8 % , aspartate transaminase 23.5 % , alanine transaminase 23.8 % , and total bilirubin 36.1 % ) .\\n',\n",
       " \"RESULTS\\tThe percentage of patients with abnormal LFTs decreased significantly from baseline to 6-months ' follow-up .\\n\",\n",
       " 'RESULTS\\tWhen mean hemodynamic profiles were compared in patients with abnormal versus normal LFTs , elevated total bilirubin was associated with a significantly lower cardiac index ( 1.80 vs 2.1 ; P < .001 ) and higher central venous pressure ( 14.2 vs 12.0 ; P = .03 ) .\\n',\n",
       " 'RESULTS\\tMultivariable analyses revealed that patients with elevated MELD-XI scores ( 16.8 ) had a 2-fold ( hazard ratio2 .06 , 95 % confidence interval 1.05-4 .03 ) increased risk of death , rehospitalization , or transplantation after adjusting for baseline LFTs , age , sex , race , body mass index , diabetes , and systolic blood pressure .\\n',\n",
       " 'CONCLUSIONS\\tAbnormal LFTs are common in the ADHF population and are a dynamic marker of an impaired hemodynamic state .\\n',\n",
       " 'CONCLUSIONS\\tElevated MELD-XI scores are associated with poor outcomes among patients admitted with ADHF .\\n',\n",
       " '\\n',\n",
       " '###24469619\\n',\n",
       " 'BACKGROUND\\tMinimally invasive endovascular aneurysm repair ( EVAR ) could be a surgical technique that improves outcome of patients with ruptured abdominal aortic aneurysm ( rAAA ) .\\n',\n",
       " 'BACKGROUND\\tThe aim of this study was to analyse the cost-effectiveness and cost-utility of EVAR compared with standard open repair ( OR ) in the treatment of rAAA , with costs per 30-day and 6-month survivor as outcome parameters .\\n',\n",
       " 'METHODS\\tResource use was determined from the Amsterdam Acute Aneurysm ( AJAX ) trial , a multicentre randomized trial comparing EVAR with OR in patients with rAAA .\\n',\n",
       " 'METHODS\\tThe analysis was performed from a provider perspective .\\n',\n",
       " 'METHODS\\tAll costs were calculated as if all patients had been treated in the same hospital ( Onze Lieve Vrouwe Gasthuis , teaching hospital ) .\\n',\n",
       " 'RESULTS\\tA total of 116 patients were randomized .\\n',\n",
       " 'RESULTS\\tThe 30-day mortality rate was 21 per cent after EVAR and 25 per cent for OR : absolute risk reduction ( ARR ) 44 ( 95 per cent confidence interval ( c.i. ) -110 to 197 ) per cent .\\n',\n",
       " 'RESULTS\\tAt 6months , the total mortality rate for EVAR was 28 per cent , compared with 31 per cent among those assigned to OR : ARR 24 ( -142 to 190 ) per cent .\\n']"
      ]
     },
     "execution_count": 8,
     "metadata": {},
     "output_type": "execute_result"
    }
   ],
   "source": [
    "FOLDER_PATH = \"pubmed-rct/PubMed_20k_RCT/\"\n",
    "\n",
    "filename = os.path.join(FOLDER_PATH, \"test.txt\")\n",
    "file_lines = get_all_lines(filename)\n",
    "\n",
    "# išvedam 20 pirmų failo eilučių\n",
    "file_lines[:20]"
   ]
  },
  {
   "attachments": {},
   "cell_type": "markdown",
   "metadata": {},
   "source": [
    "### Duomenų formato keitimas"
   ]
  },
  {
   "attachments": {},
   "cell_type": "markdown",
   "metadata": {},
   "source": [
    "Patogesniam darbui su duomenų rinkiniu, perkelsime duomenys į **pandas DataFrame**.\n",
    "\n",
    "Tarpiniam formatui naudosim python žodyną:\n",
    "- **number** - sakinio numeris santraukoje\n",
    "- **target** - sakinio etiketė\n",
    "- **text**   - sakinio tekstas\n",
    "- **total**  - visų santraukoje esančių sakinių skaičius\n",
    "\n",
    "```\n",
    "[{'target': 'BACKGROUND',\n",
    "  'text': 'This study analyzed liver function abnormalities in heart failure patients admitted with severe acute decompensated heart failure ( ADHF ) .\\n',\n",
    "  'number': 0,\n",
    "  'total': 9},\n",
    " {...},\n",
    "]\n",
    "```"
   ]
  },
  {
   "cell_type": "code",
   "execution_count": 9,
   "metadata": {},
   "outputs": [],
   "source": [
    "def convert_file_lines_to_dic(filename: str) -> list:\n",
    "    \"\"\"\n",
    "    Grąžina faile  filename  esančių santraukų skaičių ir sakinių žodynų sąrašą.\n",
    "    Sakinio žodynas papildomas eilės numeriu ir visų santraukos sakinių skaičiumi.\n",
    "    \"\"\"\n",
    "        \n",
    "    all_lines = get_all_lines(filename) #nuskaitom visas faile esančias eilutes\n",
    "    abstract_count = 0\n",
    "    list_of_dicts = []\n",
    "\n",
    "    for line in all_lines:\n",
    "        if line.startswith(\"###\"):  #tikrinam ar eilutė prasideda simboliais ### (santraukos pradžia)\n",
    "            abstract = ''           \n",
    "            abstract_count += 1\n",
    "\n",
    "        elif line.isspace():        #tikrinam ar eilutė yra tuščia (santraukos pabaiga)\n",
    "            abstract_lines = abstract.splitlines()\n",
    "            total = len(abstract_lines)\n",
    "\n",
    "            \n",
    "            for i, sentence in enumerate(abstract_lines):\n",
    "                sentence_parts = sentence.split('\\t')   #[0] etiketė, [1] tekstas\n",
    "\n",
    "                sentence_dict = {}\n",
    "\n",
    "                sentence_dict['target'] = sentence_parts[0]\n",
    "                sentence_dict['text'] = sentence_parts[1]\n",
    "                sentence_dict['number'] = i\n",
    "                sentence_dict['total'] = total\n",
    "                \n",
    "                list_of_dicts.append(sentence_dict)\n",
    "       \n",
    "        else:                       #pridedam eilutę prie kitų santraukos eilučių\n",
    "            abstract += line\n",
    "    \n",
    "    return abstract_count, list_of_dicts"
   ]
  },
  {
   "cell_type": "code",
   "execution_count": 10,
   "metadata": {},
   "outputs": [],
   "source": [
    "# perkeliam duomenų rinkinio failų santraukų sakinius į žodynų sąrašus\n",
    "DATASET_PATH = \"pubmed-rct/PubMed_20k_RCT_numbers_replaced_with_at_sign/\"\n",
    "\n",
    "train_abstract_count, train_dicts = convert_file_lines_to_dic(DATASET_PATH + 'train.txt')\n",
    "test_abstract_count, test_dicts = convert_file_lines_to_dic(DATASET_PATH + 'test.txt')\n",
    "val_abstract_count, val_dicts = convert_file_lines_to_dic(DATASET_PATH + 'dev.txt')"
   ]
  },
  {
   "cell_type": "code",
   "execution_count": 11,
   "metadata": {},
   "outputs": [
    {
     "data": {
      "text/plain": [
       "[{'target': 'OBJECTIVE',\n",
       "  'text': 'To investigate the efficacy of @ weeks of daily low-dose oral prednisolone in improving pain , mobility , and systemic low-grade inflammation in the short term and whether the effect would be sustained at @ weeks in older adults with moderate to severe knee osteoarthritis ( OA ) .',\n",
       "  'number': 0,\n",
       "  'total': 12},\n",
       " {'target': 'METHODS',\n",
       "  'text': 'A total of @ patients with primary knee OA were randomized @:@ ; @ received @ mg/day of prednisolone and @ received placebo for @ weeks .',\n",
       "  'number': 1,\n",
       "  'total': 12},\n",
       " {'target': 'METHODS',\n",
       "  'text': 'Outcome measures included pain reduction and improvement in function scores and systemic inflammation markers .',\n",
       "  'number': 2,\n",
       "  'total': 12},\n",
       " {'target': 'METHODS',\n",
       "  'text': 'Pain was assessed using the visual analog pain scale ( @-@ mm ) .',\n",
       "  'number': 3,\n",
       "  'total': 12},\n",
       " {'target': 'METHODS',\n",
       "  'text': 'Secondary outcome measures included the Western Ontario and McMaster Universities Osteoarthritis Index scores , patient global assessment ( PGA ) of the severity of knee OA , and @-min walk distance ( @MWD ) .',\n",
       "  'number': 4,\n",
       "  'total': 12}]"
      ]
     },
     "execution_count": 11,
     "metadata": {},
     "output_type": "execute_result"
    }
   ],
   "source": [
    "# išvedam pirmus penkis train.txt faile esančius sakinius žodyno pavidalu\n",
    "train_dicts[:5]"
   ]
  },
  {
   "attachments": {},
   "cell_type": "markdown",
   "metadata": {},
   "source": [
    "Nauju formatu turimus duomenys galime lengvai perkelti į pandas DataFrame."
   ]
  },
  {
   "cell_type": "code",
   "execution_count": 12,
   "metadata": {},
   "outputs": [],
   "source": [
    "train_df = pd.DataFrame(train_dicts)\n",
    "test_df = pd.DataFrame(test_dicts)\n",
    "val_df = pd.DataFrame(val_dicts)"
   ]
  },
  {
   "cell_type": "code",
   "execution_count": 13,
   "metadata": {},
   "outputs": [
    {
     "data": {
      "text/html": [
       "<div>\n",
       "<style scoped>\n",
       "    .dataframe tbody tr th:only-of-type {\n",
       "        vertical-align: middle;\n",
       "    }\n",
       "\n",
       "    .dataframe tbody tr th {\n",
       "        vertical-align: top;\n",
       "    }\n",
       "\n",
       "    .dataframe thead th {\n",
       "        text-align: right;\n",
       "    }\n",
       "</style>\n",
       "<table border=\"1\" class=\"dataframe\">\n",
       "  <thead>\n",
       "    <tr style=\"text-align: right;\">\n",
       "      <th></th>\n",
       "      <th>target</th>\n",
       "      <th>text</th>\n",
       "      <th>number</th>\n",
       "      <th>total</th>\n",
       "    </tr>\n",
       "  </thead>\n",
       "  <tbody>\n",
       "    <tr>\n",
       "      <th>0</th>\n",
       "      <td>OBJECTIVE</td>\n",
       "      <td>To investigate the efficacy of @ weeks of dail...</td>\n",
       "      <td>0</td>\n",
       "      <td>12</td>\n",
       "    </tr>\n",
       "    <tr>\n",
       "      <th>1</th>\n",
       "      <td>METHODS</td>\n",
       "      <td>A total of @ patients with primary knee OA wer...</td>\n",
       "      <td>1</td>\n",
       "      <td>12</td>\n",
       "    </tr>\n",
       "    <tr>\n",
       "      <th>2</th>\n",
       "      <td>METHODS</td>\n",
       "      <td>Outcome measures included pain reduction and i...</td>\n",
       "      <td>2</td>\n",
       "      <td>12</td>\n",
       "    </tr>\n",
       "    <tr>\n",
       "      <th>3</th>\n",
       "      <td>METHODS</td>\n",
       "      <td>Pain was assessed using the visual analog pain...</td>\n",
       "      <td>3</td>\n",
       "      <td>12</td>\n",
       "    </tr>\n",
       "    <tr>\n",
       "      <th>4</th>\n",
       "      <td>METHODS</td>\n",
       "      <td>Secondary outcome measures included the Wester...</td>\n",
       "      <td>4</td>\n",
       "      <td>12</td>\n",
       "    </tr>\n",
       "  </tbody>\n",
       "</table>\n",
       "</div>"
      ],
      "text/plain": [
       "      target                                               text  number  total\n",
       "0  OBJECTIVE  To investigate the efficacy of @ weeks of dail...       0     12\n",
       "1    METHODS  A total of @ patients with primary knee OA wer...       1     12\n",
       "2    METHODS  Outcome measures included pain reduction and i...       2     12\n",
       "3    METHODS  Pain was assessed using the visual analog pain...       3     12\n",
       "4    METHODS  Secondary outcome measures included the Wester...       4     12"
      ]
     },
     "execution_count": 13,
     "metadata": {},
     "output_type": "execute_result"
    }
   ],
   "source": [
    "train_df.head()"
   ]
  },
  {
   "attachments": {},
   "cell_type": "markdown",
   "metadata": {},
   "source": [
    "### Duomenų rinkinių analizė ir vizualizavimas"
   ]
  },
  {
   "attachments": {},
   "cell_type": "markdown",
   "metadata": {},
   "source": [
    "Bazinio ir pradinių modelių sudarymui naudosime 10% pavyzdžių rinkinį **PubMed_20k_RCT_numbers_replaced_with_at_sign**."
   ]
  },
  {
   "cell_type": "code",
   "execution_count": 14,
   "metadata": {},
   "outputs": [
    {
     "name": "stdout",
     "output_type": "stream",
     "text": [
      "Santraukų skaičius:\n",
      "\ttrain - 15000\n",
      "\ttest - 2500\n",
      "\tval - 2500\n",
      "\n",
      "Sakinių skaičius:\n",
      "\ttrain - 180040\n",
      "\ttest - 30135\n",
      "\tval - 30212\n",
      "\n",
      "Iš viso:\n",
      "\tSantraukų: 20000\n",
      "\tSakinių: 240387\n"
     ]
    }
   ],
   "source": [
    "print(\"Santraukų skaičius:\")\n",
    "print(f\"\\ttrain - {train_abstract_count}\")\n",
    "print(f\"\\ttest - {test_abstract_count}\")\n",
    "print(f\"\\tval - {val_abstract_count}\")\n",
    "\n",
    "print(\"\\nSakinių skaičius:\")\n",
    "print(f\"\\ttrain - {train_df.shape[0]}\")\n",
    "print(f\"\\ttest - {test_df.shape[0]}\")\n",
    "print(f\"\\tval - {val_df.shape[0]}\")\n",
    "\n",
    "print(f\"\\nIš viso:\")\n",
    "print(f\"\\tSantraukų: {train_abstract_count + test_abstract_count + val_abstract_count}\")\n",
    "print(f\"\\tSakinių: {train_df.shape[0] + test_df.shape[0] + val_df.shape[0]}\")"
   ]
  },
  {
   "cell_type": "code",
   "execution_count": 15,
   "metadata": {},
   "outputs": [
    {
     "data": {
      "image/png": "[encoded data removed]",
      "text/plain": [
       "<Figure size 640x480 with 1 Axes>"
      ]
     },
     "metadata": {},
     "output_type": "display_data"
    }
   ],
   "source": [
    "# sakinio etikečių pasiskirtymas train rinkinyje\n",
    "train_df['target'].value_counts().plot.barh();"
   ]
  },
  {
   "cell_type": "code",
   "execution_count": 16,
   "metadata": {},
   "outputs": [
    {
     "data": {
      "image/png": "[encoded data removed]",
      "text/plain": [
       "<Figure size 640x480 with 1 Axes>"
      ]
     },
     "metadata": {},
     "output_type": "display_data"
    }
   ],
   "source": [
    "# sakinio etikečių pasiskirtymas test rinkinyje\n",
    "test_df['target'].value_counts().plot.barh();"
   ]
  },
  {
   "cell_type": "code",
   "execution_count": 17,
   "metadata": {},
   "outputs": [
    {
     "data": {
      "image/png": "[encoded data removed]",
      "text/plain": [
       "<Figure size 640x480 with 1 Axes>"
      ]
     },
     "metadata": {},
     "output_type": "display_data"
    }
   ],
   "source": [
    "# sakinio etikečių pasiskirtymas val rinkinyje\n",
    "val_df['target'].value_counts().plot.barh();"
   ]
  },
  {
   "attachments": {},
   "cell_type": "markdown",
   "metadata": {},
   "source": [
    "---"
   ]
  },
  {
   "attachments": {},
   "cell_type": "markdown",
   "metadata": {},
   "source": [
    "## Modelis 0: Bazinis modelis"
   ]
  },
  {
   "attachments": {},
   "cell_type": "markdown",
   "metadata": {},
   "source": [
    "**Bazinis modelis** - atskaitos taškas, su kuriuo lyginsime kitus modelius. Šis modelis mums padės įvertinti ar apsibrėžtai užduočiai reikia sudėtingesnio ANN modelio.\n",
    "\n",
    "Remiantis [scikit-learn modelio parinkimo žemėlapiu](https://scikit-learn.org/stable/tutorial/machine_learning_map/index.html) bazinių modelių buvo pasirinktas [daugianaris Naive Bayes klasifikatorius](https://scikit-learn.org/stable/modules/generated/sklearn.naive_bayes.MultinomialNB.html#sklearn.naive_bayes.MultinomialNB), kuris apskaičiuos žodžio ar termino pasikartojimo konkrečios etiketės sakinyje tikimybę.\n",
    "\n",
    "Kadangi klasifikuojame tekstą, jį reikia paversti skaitinėmis reikšmėmis. Tekstą transformuosime su [scikit-learn](https://scikit-learn.org) teksto savybių išskyrimo funkcija [TfidfVectorizer](https://scikit-learn.org/stable/modules/generated/sklearn.feature_extraction.text.TfidfVectorizer.html#), kuri retesniems terminams suteikia daugiau svarbos."
   ]
  },
  {
   "attachments": {},
   "cell_type": "markdown",
   "metadata": {},
   "source": [
    "### Duomenų paruošimas"
   ]
  },
  {
   "attachments": {},
   "cell_type": "markdown",
   "metadata": {},
   "source": [
    "Baziniam modeliui naudosime santraukų sakinių tekstą (*text*) ir jų etikėtes kaip klasifikavimo klasės reikšmes (*target*)."
   ]
  },
  {
   "cell_type": "code",
   "execution_count": 18,
   "metadata": {},
   "outputs": [],
   "source": [
    "# išskyriam santraukų sakinių tekstą\n",
    "X_train = train_df[\"text\"].to_list()\n",
    "X_test = test_df[\"text\"].to_list()\n",
    "X_val = val_df[\"text\"].to_list()"
   ]
  },
  {
   "cell_type": "code",
   "execution_count": 19,
   "metadata": {},
   "outputs": [
    {
     "data": {
      "text/plain": [
       "['To investigate the efficacy of @ weeks of daily low-dose oral prednisolone in improving pain , mobility , and systemic low-grade inflammation in the short term and whether the effect would be sustained at @ weeks in older adults with moderate to severe knee osteoarthritis ( OA ) .',\n",
       " 'A total of @ patients with primary knee OA were randomized @:@ ; @ received @ mg/day of prednisolone and @ received placebo for @ weeks .',\n",
       " 'Outcome measures included pain reduction and improvement in function scores and systemic inflammation markers .',\n",
       " 'Pain was assessed using the visual analog pain scale ( @-@ mm ) .',\n",
       " 'Secondary outcome measures included the Western Ontario and McMaster Universities Osteoarthritis Index scores , patient global assessment ( PGA ) of the severity of knee OA , and @-min walk distance ( @MWD ) .']"
      ]
     },
     "execution_count": 19,
     "metadata": {},
     "output_type": "execute_result"
    }
   ],
   "source": [
    "# išvedam pirmus penkis X_train sąrašo elementus\n",
    "X_train[:5]"
   ]
  },
  {
   "attachments": {},
   "cell_type": "markdown",
   "metadata": {},
   "source": [
    "Mašininio mokymo modeliai tai pat reikalauja skaičiais išreikštų rezultato reikšmių, todėl sakinių etiketes konvertuosime į skaičius:\n",
    "- su [scikit-learn](https://scikit-learn.org) funkcija [LabelEncoder](https://scikit-learn.org/stable/modules/generated/sklearn.preprocessing.LabelEncoder.html)\n",
    "- su [scikit-learn](https://scikit-learn.org) funkcija [OneHotEncoder](https://scikit-learn.org/stable/modules/generated/sklearn.preprocessing.OneHotEncoder.html)"
   ]
  },
  {
   "cell_type": "code",
   "execution_count": 20,
   "metadata": {},
   "outputs": [],
   "source": [
    "from sklearn.preprocessing import LabelEncoder, OneHotEncoder"
   ]
  },
  {
   "cell_type": "code",
   "execution_count": 21,
   "metadata": {},
   "outputs": [],
   "source": [
    "# konvertuojam etikečių reikšmes į skaičius su LabelEncoder\n",
    "label_encoder = LabelEncoder()\n",
    "\n",
    "y_train = label_encoder.fit_transform(train_df[\"target\"])\n",
    "y_test = label_encoder.transform(test_df[\"target\"])   \n",
    "y_val = label_encoder.transform(val_df[\"target\"])"
   ]
  },
  {
   "cell_type": "code",
   "execution_count": 22,
   "metadata": {},
   "outputs": [
    {
     "data": {
      "text/plain": [
       "array([3, 2, 2, 2, 2])"
      ]
     },
     "execution_count": 22,
     "metadata": {},
     "output_type": "execute_result"
    }
   ],
   "source": [
    "# išedam pirmas 5 LabelEncoder užkuoduotas train etiketes\n",
    "y_train[:5]"
   ]
  },
  {
   "cell_type": "code",
   "execution_count": 23,
   "metadata": {},
   "outputs": [
    {
     "data": {
      "text/plain": [
       "array(['BACKGROUND', 'CONCLUSIONS', 'METHODS', 'OBJECTIVE', 'RESULTS'],\n",
       "      dtype=object)"
      ]
     },
     "execution_count": 23,
     "metadata": {},
     "output_type": "execute_result"
    }
   ],
   "source": [
    "# išsaugom etikėčių reikšmes\n",
    "etiketes = label_encoder.classes_\n",
    "etiketes"
   ]
  },
  {
   "cell_type": "code",
   "execution_count": 24,
   "metadata": {},
   "outputs": [],
   "source": [
    "# konvertuojam etikečių reikšmes į skaičius su OneHotEncoder\n",
    "onehot_encoder = OneHotEncoder(sparse_output=False)\n",
    "\n",
    "y_train_onehot = onehot_encoder.fit_transform(train_df[\"target\"].to_numpy().reshape(-1, 1))\n",
    "y_test_onehot = onehot_encoder.transform(test_df[\"target\"].to_numpy().reshape(-1, 1))   \n",
    "y_val_onehot = onehot_encoder.transform(val_df[\"target\"].to_numpy().reshape(-1, 1))"
   ]
  },
  {
   "cell_type": "code",
   "execution_count": 25,
   "metadata": {},
   "outputs": [
    {
     "data": {
      "text/plain": [
       "array([[0., 0., 0., 1., 0.],\n",
       "       [0., 0., 1., 0., 0.],\n",
       "       [0., 0., 1., 0., 0.],\n",
       "       [0., 0., 1., 0., 0.],\n",
       "       [0., 0., 1., 0., 0.]])"
      ]
     },
     "execution_count": 25,
     "metadata": {},
     "output_type": "execute_result"
    }
   ],
   "source": [
    "# išedam pirmas 5 OneHotEncoder užkuoduotas train etiketes\n",
    "y_train_onehot[:5]"
   ]
  },
  {
   "attachments": {},
   "cell_type": "markdown",
   "metadata": {},
   "source": [
    "### Modelio kūrimas"
   ]
  },
  {
   "attachments": {},
   "cell_type": "markdown",
   "metadata": {},
   "source": [
    "Prieš perduodant duomenys į modelį juos reikia transformuoti, todėl teksto transformatorių ir klasifikatorių apjungiam panaudojant [scikit-learn](https://scikit-learn.org) klasės [Pipeline](https://scikit-learn.org/stable/modules/generated/sklearn.pipeline.Pipeline.html) objektą, kuriame nurodom, kokia eilės tvarka atlikti veiksmus."
   ]
  },
  {
   "cell_type": "code",
   "execution_count": 26,
   "metadata": {},
   "outputs": [],
   "source": [
    "from sklearn.feature_extraction.text import TfidfVectorizer\n",
    "from sklearn.naive_bayes import MultinomialNB\n",
    "from sklearn.pipeline import Pipeline"
   ]
  },
  {
   "cell_type": "code",
   "execution_count": 27,
   "metadata": {},
   "outputs": [],
   "source": [
    "# sukūriam bazinį modelį\n",
    "model_0 = Pipeline([\n",
    "    (\"tf-idf\", TfidfVectorizer()),  # teksto transformatorius\n",
    "    (\"clf\", MultinomialNB())        # Naive Bayse dauginaris klasifikatorius\n",
    "])"
   ]
  },
  {
   "attachments": {},
   "cell_type": "markdown",
   "metadata": {},
   "source": [
    "### Modelio mokymas"
   ]
  },
  {
   "attachments": {},
   "cell_type": "markdown",
   "metadata": {},
   "source": [
    "Bazinio modelio mokymui perduodame **train** rinkinio sakinių tekstą **X_train** ir skaičiais užkoduotas sakinių etikėtes **y_train**."
   ]
  },
  {
   "cell_type": "code",
   "execution_count": 28,
   "metadata": {},
   "outputs": [
    {
     "data": {
      "text/html": [
       "<style>#sk-container-id-1 {color: black;background-color: white;}#sk-container-id-1 pre{padding: 0;}#sk-container-id-1 div.sk-toggleable {background-color: white;}#sk-container-id-1 label.sk-toggleable__label {cursor: pointer;display: block;width: 100%;margin-bottom: 0;padding: 0.3em;box-sizing: border-box;text-align: center;}#sk-container-id-1 label.sk-toggleable__label-arrow:before {content: \"▸\";float: left;margin-right: 0.25em;color: #696969;}#sk-container-id-1 label.sk-toggleable__label-arrow:hover:before {color: black;}#sk-container-id-1 div.sk-estimator:hover label.sk-toggleable__label-arrow:before {color: black;}#sk-container-id-1 div.sk-toggleable__content {max-height: 0;max-width: 0;overflow: hidden;text-align: left;background-color: #f0f8ff;}#sk-container-id-1 div.sk-toggleable__content pre {margin: 0.2em;color: black;border-radius: 0.25em;background-color: #f0f8ff;}#sk-container-id-1 input.sk-toggleable__control:checked~div.sk-toggleable__content {max-height: 200px;max-width: 100%;overflow: auto;}#sk-container-id-1 input.sk-toggleable__control:checked~label.sk-toggleable__label-arrow:before {content: \"▾\";}#sk-container-id-1 div.sk-estimator input.sk-toggleable__control:checked~label.sk-toggleable__label {background-color: #d4ebff;}#sk-container-id-1 div.sk-label input.sk-toggleable__control:checked~label.sk-toggleable__label {background-color: #d4ebff;}#sk-container-id-1 input.sk-hidden--visually {border: 0;clip: rect(1px 1px 1px 1px);clip: rect(1px, 1px, 1px, 1px);height: 1px;margin: -1px;overflow: hidden;padding: 0;position: absolute;width: 1px;}#sk-container-id-1 div.sk-estimator {font-family: monospace;background-color: #f0f8ff;border: 1px dotted black;border-radius: 0.25em;box-sizing: border-box;margin-bottom: 0.5em;}#sk-container-id-1 div.sk-estimator:hover {background-color: #d4ebff;}#sk-container-id-1 div.sk-parallel-item::after {content: \"\";width: 100%;border-bottom: 1px solid gray;flex-grow: 1;}#sk-container-id-1 div.sk-label:hover label.sk-toggleable__label {background-color: #d4ebff;}#sk-container-id-1 div.sk-serial::before {content: \"\";position: absolute;border-left: 1px solid gray;box-sizing: border-box;top: 0;bottom: 0;left: 50%;z-index: 0;}#sk-container-id-1 div.sk-serial {display: flex;flex-direction: column;align-items: center;background-color: white;padding-right: 0.2em;padding-left: 0.2em;position: relative;}#sk-container-id-1 div.sk-item {position: relative;z-index: 1;}#sk-container-id-1 div.sk-parallel {display: flex;align-items: stretch;justify-content: center;background-color: white;position: relative;}#sk-container-id-1 div.sk-item::before, #sk-container-id-1 div.sk-parallel-item::before {content: \"\";position: absolute;border-left: 1px solid gray;box-sizing: border-box;top: 0;bottom: 0;left: 50%;z-index: -1;}#sk-container-id-1 div.sk-parallel-item {display: flex;flex-direction: column;z-index: 1;position: relative;background-color: white;}#sk-container-id-1 div.sk-parallel-item:first-child::after {align-self: flex-end;width: 50%;}#sk-container-id-1 div.sk-parallel-item:last-child::after {align-self: flex-start;width: 50%;}#sk-container-id-1 div.sk-parallel-item:only-child::after {width: 0;}#sk-container-id-1 div.sk-dashed-wrapped {border: 1px dashed gray;margin: 0 0.4em 0.5em 0.4em;box-sizing: border-box;padding-bottom: 0.4em;background-color: white;}#sk-container-id-1 div.sk-label label {font-family: monospace;font-weight: bold;display: inline-block;line-height: 1.2em;}#sk-container-id-1 div.sk-label-container {text-align: center;}#sk-container-id-1 div.sk-container {/* jupyter's `normalize.less` sets `[hidden] { display: none; }` but bootstrap.min.css set `[hidden] { display: none !important; }` so we also need the `!important` here to be able to override the default hidden behavior on the sphinx rendered scikit-learn.org. See: https://github.com/scikit-learn/scikit-learn/issues/21755 */display: inline-block !important;position: relative;}#sk-container-id-1 div.sk-text-repr-fallback {display: none;}</style><div id=\"sk-container-id-1\" class=\"sk-top-container\"><div class=\"sk-text-repr-fallback\"><pre>Pipeline(steps=[(&#x27;tf-idf&#x27;, TfidfVectorizer()), (&#x27;clf&#x27;, MultinomialNB())])</pre><b>In a Jupyter environment, please rerun this cell to show the HTML representation or trust the notebook. <br />On GitHub, the HTML representation is unable to render, please try loading this page with nbviewer.org.</b></div><div class=\"sk-container\" hidden><div class=\"sk-item sk-dashed-wrapped\"><div class=\"sk-label-container\"><div class=\"sk-label sk-toggleable\"><input class=\"sk-toggleable__control sk-hidden--visually\" id=\"sk-estimator-id-1\" type=\"checkbox\" ><label for=\"sk-estimator-id-1\" class=\"sk-toggleable__label sk-toggleable__label-arrow\">Pipeline</label><div class=\"sk-toggleable__content\"><pre>Pipeline(steps=[(&#x27;tf-idf&#x27;, TfidfVectorizer()), (&#x27;clf&#x27;, MultinomialNB())])</pre></div></div></div><div class=\"sk-serial\"><div class=\"sk-item\"><div class=\"sk-estimator sk-toggleable\"><input class=\"sk-toggleable__control sk-hidden--visually\" id=\"sk-estimator-id-2\" type=\"checkbox\" ><label for=\"sk-estimator-id-2\" class=\"sk-toggleable__label sk-toggleable__label-arrow\">TfidfVectorizer</label><div class=\"sk-toggleable__content\"><pre>TfidfVectorizer()</pre></div></div></div><div class=\"sk-item\"><div class=\"sk-estimator sk-toggleable\"><input class=\"sk-toggleable__control sk-hidden--visually\" id=\"sk-estimator-id-3\" type=\"checkbox\" ><label for=\"sk-estimator-id-3\" class=\"sk-toggleable__label sk-toggleable__label-arrow\">MultinomialNB</label><div class=\"sk-toggleable__content\"><pre>MultinomialNB()</pre></div></div></div></div></div></div></div>"
      ],
      "text/plain": [
       "Pipeline(steps=[('tf-idf', TfidfVectorizer()), ('clf', MultinomialNB())])"
      ]
     },
     "execution_count": 28,
     "metadata": {},
     "output_type": "execute_result"
    }
   ],
   "source": [
    "model_0.fit(X_train, y_train)"
   ]
  },
  {
   "attachments": {},
   "cell_type": "markdown",
   "metadata": {},
   "source": [
    "### Rezultatai"
   ]
  },
  {
   "attachments": {},
   "cell_type": "markdown",
   "metadata": {},
   "source": [
    "Klasifikacijos problemos sprendimas dažniausiai vertinamos pagal šiuos parametrus:\n",
    "- **accuracy** - tikslumas, rodantis kiek klasifikacija yra arti tikrosios vertės\n",
    "- **precision** - kiek iš visų \"*true*\" identifikuotų reikšmių ištikro yra \"*true*\"\n",
    "- **recall** - kiek visų rinkinyje esančiu \"*true*\" reikšmių įdentifikuota teisingai\n",
    "- **F1 score** - sunjungia *precision* ir *recall* į vieną vertę"
   ]
  },
  {
   "cell_type": "code",
   "execution_count": 29,
   "metadata": {},
   "outputs": [],
   "source": [
    "accuracy = model_0.score(X_test, y_test)"
   ]
  },
  {
   "cell_type": "code",
   "execution_count": 30,
   "metadata": {},
   "outputs": [],
   "source": [
    "# precision, recall ir F1 score įverčių skaičiavimui naudosime scikit-learn funkciją\n",
    "from sklearn.metrics import precision_recall_fscore_support\n",
    "\n",
    "y_pred = model_0.predict(X_test)\n",
    "precision, recall, fscore, _ = precision_recall_fscore_support(y_test, y_pred, average=\"weighted\")\n"
   ]
  },
  {
   "cell_type": "code",
   "execution_count": 31,
   "metadata": {},
   "outputs": [
    {
     "name": "stdout",
     "output_type": "stream",
     "text": [
      "Bazinio modelio rezultatai:\n",
      "\taccuracy: \t71.67%\n",
      "\tprecision: \t71.24%\n",
      "\trecall: \t71.67%\n",
      "\tF1 score: \t69.25%\n"
     ]
    }
   ],
   "source": [
    "print(\"Bazinio modelio rezultatai:\")\n",
    "print(f\"\\taccuracy: \\t{(accuracy * 100):.2f}%\")\n",
    "print(f\"\\tprecision: \\t{(precision * 100):.2f}%\")\n",
    "print(f\"\\trecall: \\t{(recall * 100):.2f}%\")\n",
    "print(f\"\\tF1 score: \\t{(fscore * 100):.2f}%\")"
   ]
  },
  {
   "attachments": {},
   "cell_type": "markdown",
   "metadata": {},
   "source": [
    "><br>\n",
    ">Pagal gautus rezultatus matome, kad mūsų bazinis modelis <b>~70% tikslumu</b> pritaiko teisingą sakinio etikėtę.<br>\n",
    "><br>\n",
    ">Reikia nepamiršti, kad bazinis modelis nekreipia dėmesio į sakinio vietą santraukoje, o klasifikuoja pagal dažniausiai pasitaikančius žodžius ar terminus.<br>\n",
    "><br>"
   ]
  },
  {
   "attachments": {},
   "cell_type": "markdown",
   "metadata": {},
   "source": [
    "Sudarę sprendimų/sumaišties matricą (***angl. Confusion Matrix***) pamatysime kiek kartų kiekviena etikėtė buvo identifikuota teisingai ir kiek kartų supainioto su kitomis.\n",
    "\n",
    "Confusion matrica sudarysime su [scikit-learn](https://scikit-learn.org) funkcija [confusion_matrix](https://scikit-learn.org/stable/modules/generated/sklearn.metrics.confusion_matrix.html), atvaizduosime su klasės [ConfusionMatrixDisplay](https://scikit-learn.org/stable/modules/generated/sklearn.metrics.ConfusionMatrixDisplay.html) objektu."
   ]
  },
  {
   "cell_type": "code",
   "execution_count": 32,
   "metadata": {},
   "outputs": [
    {
     "data": {
      "image/png": "[encoded data removed]",
      "text/plain": [
       "<Figure size 640x480 with 1 Axes>"
      ]
     },
     "metadata": {},
     "output_type": "display_data"
    }
   ],
   "source": [
    "from sklearn.metrics import confusion_matrix, ConfusionMatrixDisplay\n",
    "\n",
    "model_0_confusion_matrix = confusion_matrix(y_test, y_pred)\n",
    "model_0_cm_plot = ConfusionMatrixDisplay(confusion_matrix=model_0_confusion_matrix, display_labels=etiketes)\n",
    "model_0_cm_plot.plot(xticks_rotation=\"vertical\", cmap=\"Blues\", colorbar=False);\n",
    "plt.show()"
   ]
  },
  {
   "cell_type": "code",
   "execution_count": 33,
   "metadata": {},
   "outputs": [],
   "source": [
    "precisions, recalls, fscores, _ = precision_recall_fscore_support(y_test, y_pred)"
   ]
  },
  {
   "cell_type": "code",
   "execution_count": 34,
   "metadata": {},
   "outputs": [
    {
     "name": "stdout",
     "output_type": "stream",
     "text": [
      "Label        | Precision | Recall | F1 score |\n",
      "----------------------------------------------\n",
      "BACKGROUND   |     64.72 |  46.62 |    54.20 |\n",
      "CONCLUSIONS  |     63.15 |  57.80 |    60.35 |\n",
      "METHODS      |     72.26 |  87.73 |    79.25 |\n",
      "OBJECTIVE    |     73.68 |  12.60 |    21.52 |\n",
      "RESULTS      |     75.86 |  85.35 |    80.33 |\n"
     ]
    }
   ],
   "source": [
    "# išvedam kiekvienos etikėtes klasifikavimo rezultatą\n",
    "print(f\"{'Label':12} | Precision | Recall | F1 score |\")\n",
    "print(\"-\"*46)\n",
    "for i, label in enumerate(etiketes):\n",
    "    print(f\"{label:12} | {(precisions[i]*100):9.2f} | {(recalls[i]*100):6.2f} | {(fscores[i]*100):8.2f} |\")"
   ]
  },
  {
   "attachments": {},
   "cell_type": "markdown",
   "metadata": {},
   "source": [
    "><br>\n",
    ">Baziniam modeliui sunkiausiai sekasi identifikuoti OBJECTIVE etiketę, kuri dažniausiai identifikuojama kaip METHODS arba BACKGROUND.<br>\n",
    "><br>\n",
    ">Geriausiai sekasi identifikuoti RESULTS ir METHODS etiketes, kurios tarpusavyje dažniausiai ir maišomos.<br>\n",
    "><br>\n",
    ">Šį rezultatą lemia etikėte pažymėtų sakinių skaičius duomenų rinkinyje, t.y. žodžiai/terminai dažniausiai pasikartos tos etiketės sakiniuose, kurios sakinių daugiausia.<br>\n",
    "><br>"
   ]
  },
  {
   "attachments": {},
   "cell_type": "markdown",
   "metadata": {},
   "source": [
    "---"
   ]
  },
  {
   "attachments": {},
   "cell_type": "markdown",
   "metadata": {},
   "source": [
    "## Modelis 1: Conv1D with token embedding"
   ]
  },
  {
   "attachments": {},
   "cell_type": "markdown",
   "metadata": {},
   "source": [
    "TensorFlow ANN modelį sudaris šie sluoksniai:\n",
    "1. **Input** - įvedimo sluoksnis, kuriam perduodamas santraukos sakinio tekstas ir etiketė\n",
    "2. **TextVectorizer** - sužymi sakinio žodžius sveikais skaičiais, pagal iš anksto sudarytą žodžių (*token*) žodyną\n",
    "3. **Embedding** - paverčia kiekvieną sveiku skaičiumi pažymėtą sakinio žodį nurodyto fiksuoto dydžio vekoriumi\n",
    "4. **Conv1D** - atlieka vienmatę konvoliuciją pagal nurodyto dydžio langą (*kernel*)\n",
    "5. **GlobalAveragePooling1D** - sutankina Conv1D rezultata, grąžindamas vidurkių vektorių\n",
    "6. **Dense** - išvedimo sluoknis, grąžina kiekvienos etikėtės tikimybę"
   ]
  },
  {
   "attachments": {},
   "cell_type": "markdown",
   "metadata": {},
   "source": [
    " ### Duomenų paruošimas TensorFlow modeliams"
   ]
  },
  {
   "attachments": {},
   "cell_type": "markdown",
   "metadata": {},
   "source": [
    "**Tokenization** yra žodžių, skaičių simbolių ir (arba) skyrybos ženklų pavertimas sveikais skaičiais. Šio proceso metu yra sudaromas nurodyto dydžio žodynas, kuriame žodis (*token*) susiejamas su skaičiumi, žodžiai rikiuojami mažėjimo tvarka nuo dažniausiai pasikartojančio.\n",
    "\n",
    "**Embedding** proceso metu sveiki token'ų skaičiai paverčiami fiksuoto dydžio vektoriais.\n",
    "\n",
    "Santraukų sakinių vektorizacija atliksime su [TextVectorization](https://www.tensorflow.org/api_docs/python/tf/keras/layers/TextVectorization) sluoksniu, kuriam nurodysime pageidaujamo tokenizacijos žodyno dydį bei vektorizuoto santraukos sakinio ilgį. Todėl pirmiausia turime išsiaiškinti kokio vdutiniškai ilgio yra santraukų sakiniai bei kiek skirtingų žodžių yra naudojamo rinkinio santraukose."
   ]
  },
  {
   "cell_type": "code",
   "execution_count": 35,
   "metadata": {},
   "outputs": [
    {
     "name": "stdout",
     "output_type": "stream",
     "text": [
      "Sakinių ilgių vidurkis: 26 žodžiai\n",
      "Ilgiausias sakinys: 296 žodžiai\n"
     ]
    }
   ],
   "source": [
    "# randam santraukų sakinių ilgių vidurkį bei ilgiausio sakinio ilgį X_train rinkinyje\n",
    "sentence_lens = [len(sentence.split()) for sentence in X_train] # sudarom sakinių ilgių sąrašą\n",
    "avg_sentence_len = int(np.mean(sentence_lens)) # vidutinis žodžių skaičius sakinyje\n",
    "max_sentence_len = np.max(sentence_lens) # ilgiausio sakinio žodžių skaičius\n",
    "\n",
    "print(f\"Sakinių ilgių vidurkis: {avg_sentence_len} žodžiai\")\n",
    "print(f\"Ilgiausias sakinys: {max_sentence_len} žodžiai\")"
   ]
  },
  {
   "cell_type": "code",
   "execution_count": 36,
   "metadata": {},
   "outputs": [
    {
     "data": {
      "image/png": "[encoded data removed]",
      "text/plain": [
       "<Figure size 1500x500 with 2 Axes>"
      ]
     },
     "metadata": {},
     "output_type": "display_data"
    }
   ],
   "source": [
    "# atvaizduojam sakinių ilgių pasiskirstymą su histograma\n",
    "fig, ax = plt.subplots(1, 2, figsize=(15, 5))\n",
    "fig.suptitle(\"Sakinių ilgių pasiskirstymas\")\n",
    "\n",
    "ax[0].hist(sentence_lens, bins=15)\n",
    "ax[1].hist(sentence_lens, bins=15, range=[0, 100], facecolor='green', align='mid')\n",
    "\n",
    "plt.show()"
   ]
  },
  {
   "cell_type": "code",
   "execution_count": 37,
   "metadata": {},
   "outputs": [
    {
     "name": "stdout",
     "output_type": "stream",
     "text": [
      "Maksimalus sakinių ilgis tarp 95% visų sakinių: 55 žodžiai\n"
     ]
    }
   ],
   "source": [
    "# randam kokio maksimalaus ilgio yra 95% visų sakinių\n",
    "output_sentence_len = int(np.percentile(sentence_lens, 95))\n",
    "print(f\"Maksimalus sakinių ilgis tarp 95% visų sakinių: {output_sentence_len} žodžiai\")"
   ]
  },
  {
   "attachments": {},
   "cell_type": "markdown",
   "metadata": {},
   "source": [
    "#### Sakinių teksto vektorizacija"
   ]
  },
  {
   "attachments": {},
   "cell_type": "markdown",
   "metadata": {},
   "source": [
    "Atlikti santraukų sakinių teksto vektorizacijai papildomai reikia visų skirtingų žodžių skaičiaus, šis skaičius nurodytas duomenų rinkinio [**PubMed 200k RCT**](https://arxiv.org/pdf/1710.06071.pdf) aprašymo antroje lentelėje.\n",
    "\n",
    "Rinkinio **PubMed_20k_RCT** žodyną sudaro **68 tūkst.** žodžių."
   ]
  },
  {
   "cell_type": "code",
   "execution_count": 38,
   "metadata": {},
   "outputs": [
    {
     "name": "stderr",
     "output_type": "stream",
     "text": [
      "2023-03-15 22:18:28.096739: I tensorflow/core/platform/cpu_feature_guard.cc:193] This TensorFlow binary is optimized with oneAPI Deep Neural Network Library (oneDNN) to use the following CPU instructions in performance-critical operations:  AVX2 FMA\n",
      "To enable them in other operations, rebuild TensorFlow with the appropriate compiler flags.\n",
      "2023-03-15 22:18:28.620025: I tensorflow/core/common_runtime/gpu/gpu_device.cc:1613] Created device /job:localhost/replica:0/task:0/device:GPU:0 with 4682 MB memory:  -> device: 0, name: NVIDIA GeForce GTX 1060 6GB, pci bus id: 0000:01:00.0, compute capability: 6.1\n"
     ]
    }
   ],
   "source": [
    "# nurodom maksimalu duomenų rinkinio žodyno dydį\n",
    "max_tokens = 68000\n",
    "\n",
    "# sukuriam vektorizavimo sluoksnį\n",
    "text_vectorizer = layers.TextVectorization(max_tokens=max_tokens,\n",
    "                                           output_sequence_length=output_sentence_len)\n",
    "\n",
    "# sukuriam tokenizacijos žodyną naudojant X_train sakinius\n",
    "text_vectorizer.adapt(X_train)"
   ]
  },
  {
   "cell_type": "code",
   "execution_count": 39,
   "metadata": {},
   "outputs": [
    {
     "name": "stdout",
     "output_type": "stream",
     "text": [
      "Originalus sakinio tekstas:\n",
      "Outcome measures included pain reduction and improvement in function scores and systemic inflammation markers .\n",
      "\n",
      "Vektorizuotas sakinio tekstas:\n",
      "[[ 86 213 121  65 169   3 194   5 149 119   3 670 636 747   0   0   0   0\n",
      "    0   0   0   0   0   0   0   0   0   0   0   0   0   0   0   0   0   0\n",
      "    0   0   0   0   0   0   0   0   0   0   0   0   0   0   0   0   0   0\n",
      "    0]]\n"
     ]
    }
   ],
   "source": [
    "# patikrinam teksto sakinių vektorizaciją su pasirinktu sakiniu\n",
    "test_sentence = X_train[2]\n",
    "\n",
    "print(f\"Originalus sakinio tekstas:\\n{test_sentence}\\n\")\n",
    "print(f\"Vektorizuotas sakinio tekstas:\\n{text_vectorizer([test_sentence])}\")"
   ]
  },
  {
   "cell_type": "code",
   "execution_count": 40,
   "metadata": {},
   "outputs": [
    {
     "name": "stdout",
     "output_type": "stream",
     "text": [
      "Žodžių skaičius žodyne: 64841\n",
      "Dažniausi žodžiai: ['', '[UNK]', 'the', 'and', 'of', 'in', 'to', 'with', 'a', 'were']\n",
      "Rečiausi žodžiai: ['aarm', 'aaqol', 'aaq', 'aanhui', 'aana', 'aainduced', 'aaigroup', 'aachener', 'aachen', 'aaacp']\n"
     ]
    }
   ],
   "source": [
    "# tokenizacijos metu sudaryto žodyno apžvalga\n",
    "tokens_vocabulary = text_vectorizer.get_vocabulary()\n",
    "\n",
    "print(f\"Žodžių skaičius žodyne: {len(tokens_vocabulary)}\")\n",
    "print(f\"Dažniausi žodžiai: {tokens_vocabulary[:10]}\")\n",
    "print(f\"Rečiausi žodžiai: {tokens_vocabulary[-10:]}\")"
   ]
  },
  {
   "attachments": {},
   "cell_type": "markdown",
   "metadata": {},
   "source": [
    "### Tokenizuotų sakinių embedding'as"
   ]
  },
  {
   "cell_type": "code",
   "execution_count": 41,
   "metadata": {},
   "outputs": [],
   "source": [
    "#  sukuriam žodžių embedding'o sluoksnį\n",
    "token_embedder = layers.Embedding(input_dim=len(tokens_vocabulary),\n",
    "                                  output_dim=128, # rezultato vektoriaus dydis\n",
    "                                  mask_zero=True, # paslepiam vektorizuoto sakinio tuščias reikšmes\n",
    "                                  name=\"token_embedding\")"
   ]
  },
  {
   "cell_type": "code",
   "execution_count": 42,
   "metadata": {},
   "outputs": [
    {
     "name": "stdout",
     "output_type": "stream",
     "text": [
      "Originalus sakinio tekstas:\n",
      "Outcome measures included pain reduction and improvement in function scores and systemic inflammation markers .\n",
      "\n",
      "Vektorizuotas sakinio tekstas:\n",
      "[[ 86 213 121  65 169   3 194   5 149 119   3 670 636 747   0   0   0   0\n",
      "    0   0   0   0   0   0   0   0   0   0   0   0   0   0   0   0   0   0\n",
      "    0   0   0   0   0   0   0   0   0   0   0   0   0   0   0   0   0   0\n",
      "    0]]\n",
      "\n",
      "Embedded sakinio tekstas:\n",
      "[[[-0.03596513  0.04122042 -0.02041037 ... -0.04598574  0.03557295\n",
      "    0.03742136]\n",
      "  [ 0.00990814  0.01729086 -0.00978869 ... -0.00606135 -0.00812338\n",
      "   -0.0256141 ]\n",
      "  [ 0.04835195  0.02146998 -0.02506363 ...  0.01745286 -0.03754194\n",
      "   -0.02726744]\n",
      "  ...\n",
      "  [-0.04413103  0.03368725  0.01681021 ...  0.03285453  0.030287\n",
      "    0.02229879]\n",
      "  [-0.04413103  0.03368725  0.01681021 ...  0.03285453  0.030287\n",
      "    0.02229879]\n",
      "  [-0.04413103  0.03368725  0.01681021 ...  0.03285453  0.030287\n",
      "    0.02229879]]]\n",
      "\n",
      "Vektorizuoto sakinio formatas: (1, 55)\n",
      "Embedded sakinio formatas: (1, 55, 128)\n"
     ]
    }
   ],
   "source": [
    "# patikrinam sakinio teksto vektorizaciją kartu su token'ų embedding'u\n",
    "original_sentence = X_train[2]\n",
    "print(f\"Originalus sakinio tekstas:\\n{original_sentence}\")\n",
    "\n",
    "vectorized_sentence = text_vectorizer([original_sentence])\n",
    "print(f\"\\nVektorizuotas sakinio tekstas:\\n{vectorized_sentence}\")\n",
    "\n",
    "embedded_sentence = token_embedder(vectorized_sentence)\n",
    "print(f\"\\nEmbedded sakinio tekstas:\\n{embedded_sentence}\")\n",
    "\n",
    "print(f\"\\nVektorizuoto sakinio formatas: {vectorized_sentence.shape}\")\n",
    "print(f\"Embedded sakinio formatas: {embedded_sentence.shape}\")"
   ]
  },
  {
   "cell_type": "markdown",
   "metadata": {},
   "source": [
    "#### TensorFlow Dataset sudarymas"
   ]
  },
  {
   "attachments": {},
   "cell_type": "markdown",
   "metadata": {},
   "source": [
    "**GPU** ir **TPU** gali drastiškai sutrumpinti laiką, reikalingą vienam mokymo žingsniui atlikti. [tf.data](https://www.tensorflow.org/guide/data) API padeda sukurti efektyvias duomenų struktūras, kuriomis duomenys kitam veiksmui perduodami dar nepasibaigus dabartiniam.\n",
    "\n",
    "Santraukų sakinius ir *One Hot* koduotas etiketes sujungiam su **TesorFlow Dataset** metodu [from_tensor_slices()](https://www.tensorflow.org/api_docs/python/tf/data/Dataset#from_tensor_slices). Sudarytus *Dataset* rinkinius suskirstom į **paketus po 32** pavyzdžius naudojant [batch()](https://www.tensorflow.org/api_docs/python/tf/data/Dataset#batch), papildmai su [prefetch](https://www.tensorflow.org/api_docs/python/tf/data/Dataset#prefetch) nurodysim paruošti vėlesnius duomenis, kol apdorojamas dabartinis."
   ]
  },
  {
   "cell_type": "code",
   "execution_count": 43,
   "metadata": {},
   "outputs": [],
   "source": [
    "# turimus duomenis perkėliam į TensorFlow Dataset\n",
    "train_dataset = tf.data.Dataset.from_tensor_slices((X_train, y_train_onehot))\n",
    "test_dataset = tf.data.Dataset.from_tensor_slices((X_test, y_test_onehot))\n",
    "val_dataset = tf.data.Dataset.from_tensor_slices((X_val, y_val_onehot))"
   ]
  },
  {
   "cell_type": "code",
   "execution_count": 44,
   "metadata": {},
   "outputs": [],
   "source": [
    "# suskirstom duomenis į paketus po 32 pavyzdžius\n",
    "train_dataset = train_dataset.batch(32).prefetch(tf.data.AUTOTUNE)\n",
    "test_dataset = test_dataset.batch(32).prefetch(tf.data.AUTOTUNE)\n",
    "val_dataset = val_dataset.batch(32).prefetch(tf.data.AUTOTUNE)"
   ]
  },
  {
   "cell_type": "code",
   "execution_count": 45,
   "metadata": {},
   "outputs": [
    {
     "data": {
      "text/plain": [
       "(<PrefetchDataset element_spec=(TensorSpec(shape=(None,), dtype=tf.string, name=None), TensorSpec(shape=(None, 5), dtype=tf.float64, name=None))>,\n",
       " <PrefetchDataset element_spec=(TensorSpec(shape=(None,), dtype=tf.string, name=None), TensorSpec(shape=(None, 5), dtype=tf.float64, name=None))>,\n",
       " <PrefetchDataset element_spec=(TensorSpec(shape=(None,), dtype=tf.string, name=None), TensorSpec(shape=(None, 5), dtype=tf.float64, name=None))>)"
      ]
     },
     "execution_count": 45,
     "metadata": {},
     "output_type": "execute_result"
    }
   ],
   "source": [
    "# patikrinam sudarytus duomenų rinkinius\n",
    "train_dataset, test_dataset, val_dataset"
   ]
  },
  {
   "attachments": {},
   "cell_type": "markdown",
   "metadata": {},
   "source": [
    "### Modelio sudarymas"
   ]
  },
  {
   "cell_type": "markdown",
   "metadata": {},
   "source": []
  },
  {
   "cell_type": "code",
   "execution_count": 46,
   "metadata": {},
   "outputs": [],
   "source": [
    "# aprašom modelio sluoksnius\n",
    "inputs = layers.Input(shape=(1,), dtype=tf.string) # įvedimo sluoksnis\n",
    "\n",
    "# duomenų apdorojimo sluoksniai\n",
    "text_vectors = text_vectorizer(inputs) # vektorizuojam įvedimą\n",
    "token_embeddings = token_embedder(text_vectors) # embeddinam vektorizuotus sakinius\n",
    "\n",
    "# atliekam vienmatę konvoliuciją naudojant 5 reikšmių branduolį (langą) ir sutankinam rezultatus\n",
    "x = layers.Conv1D(64, kernel_size=5, padding=\"same\", activation=\"relu\")(token_embeddings)\n",
    "x = layers.GlobalAveragePooling1D()(x)\n",
    "\n",
    "outputs = layers.Dense(units=len(etiketes), activation=\"softmax\")(x) # išvedimo sluoksnis\n",
    "\n",
    "# aprašom modelį, nurodydami įvedimo ir išvedimo sluoksnius\n",
    "model_1 = tf.keras.Model(inputs, outputs, name=\"model_1\")"
   ]
  },
  {
   "cell_type": "code",
   "execution_count": 47,
   "metadata": {},
   "outputs": [],
   "source": [
    "# sukūriam (kompiliuojam) aprašytą modelį\n",
    "model_1.compile(loss=\"categorical_crossentropy\",\n",
    "                optimizer=tf.keras.optimizers.Adam(),\n",
    "                metrics=[\"accuracy\"])"
   ]
  },
  {
   "cell_type": "code",
   "execution_count": 48,
   "metadata": {},
   "outputs": [
    {
     "name": "stdout",
     "output_type": "stream",
     "text": [
      "Model: \"model_1\"\n",
      "_________________________________________________________________\n",
      " Layer (type)                Output Shape              Param #   \n",
      "=================================================================\n",
      " input_1 (InputLayer)        [(None, 1)]               0         \n",
      "                                                                 \n",
      " text_vectorization (TextVec  (None, 55)               0         \n",
      " torization)                                                     \n",
      "                                                                 \n",
      " token_embedding (Embedding)  (None, 55, 128)          8299648   \n",
      "                                                                 \n",
      " conv1d (Conv1D)             (None, 55, 64)            41024     \n",
      "                                                                 \n",
      " global_average_pooling1d (G  (None, 64)               0         \n",
      " lobalAveragePooling1D)                                          \n",
      "                                                                 \n",
      " dense (Dense)               (None, 5)                 325       \n",
      "                                                                 \n",
      "=================================================================\n",
      "Total params: 8,340,997\n",
      "Trainable params: 8,340,997\n",
      "Non-trainable params: 0\n",
      "_________________________________________________________________\n"
     ]
    }
   ],
   "source": [
    "# išvedam sudaryto modelio struktūra\n",
    "model_1.summary()"
   ]
  },
  {
   "cell_type": "code",
   "execution_count": 49,
   "metadata": {},
   "outputs": [],
   "source": [
    "# modelio diagramos sudarymas\n",
    "# from keras.utils import plot_model\n",
    "# plot_model(model_1, show_shapes=True)"
   ]
  },
  {
   "attachments": {},
   "cell_type": "markdown",
   "metadata": {},
   "source": [
    "### Modelio mokymas"
   ]
  },
  {
   "cell_type": "markdown",
   "metadata": {},
   "source": []
  },
  {
   "cell_type": "code",
   "execution_count": 50,
   "metadata": {},
   "outputs": [
    {
     "name": "stdout",
     "output_type": "stream",
     "text": [
      "Epoch 1/5\n"
     ]
    },
    {
     "name": "stderr",
     "output_type": "stream",
     "text": [
      "2023-03-15 22:18:43.005370: I tensorflow/compiler/xla/stream_executor/cuda/cuda_dnn.cc:428] Loaded cuDNN version 8100\n",
      "2023-03-15 22:18:43.581434: I tensorflow/compiler/xla/service/service.cc:173] XLA service 0x7f21c51989e0 initialized for platform CUDA (this does not guarantee that XLA will be used). Devices:\n",
      "2023-03-15 22:18:43.581460: I tensorflow/compiler/xla/service/service.cc:181]   StreamExecutor device (0): NVIDIA GeForce GTX 1060 6GB, Compute Capability 6.1\n",
      "2023-03-15 22:18:43.585670: I tensorflow/compiler/mlir/tensorflow/utils/dump_mlir_util.cc:268] disabling MLIR crash reproducer, set env var `MLIR_CRASH_REPRODUCER_DIRECTORY` to enable.\n",
      "2023-03-15 22:18:43.716203: I tensorflow/compiler/jit/xla_compilation_cache.cc:477] Compiled cluster using XLA!  This line is logged at most once for the lifetime of the process.\n"
     ]
    },
    {
     "name": "stdout",
     "output_type": "stream",
     "text": [
      "562/562 [==============================] - 28s 46ms/step - loss: 0.9220 - accuracy: 0.6345 - val_loss: 0.6837 - val_accuracy: 0.7387\n",
      "Epoch 2/5\n",
      "562/562 [==============================] - 7s 12ms/step - loss: 0.6562 - accuracy: 0.7570 - val_loss: 0.6368 - val_accuracy: 0.7703\n",
      "Epoch 3/5\n",
      "562/562 [==============================] - 5s 9ms/step - loss: 0.6154 - accuracy: 0.7751 - val_loss: 0.5960 - val_accuracy: 0.7839\n",
      "Epoch 4/5\n",
      "562/562 [==============================] - 4s 8ms/step - loss: 0.5873 - accuracy: 0.7906 - val_loss: 0.5814 - val_accuracy: 0.7856\n",
      "Epoch 5/5\n",
      "562/562 [==============================] - 5s 9ms/step - loss: 0.5909 - accuracy: 0.7923 - val_loss: 0.5623 - val_accuracy: 0.7979\n"
     ]
    }
   ],
   "source": [
    "# atliekam modelio mokinimą naudojant tik 10% duomenų paketų (batches)\n",
    "model_1_history = model_1.fit(train_dataset,\n",
    "                              steps_per_epoch=int(0.1*len(train_dataset)),\n",
    "                              epochs=5,\n",
    "                              validation_data=val_dataset,\n",
    "                              validation_steps=int(0.1*len(val_dataset)),\n",
    "                              callbacks=[tf.keras.callbacks.TensorBoard(log_dir=\"tensorboard\")])"
   ]
  },
  {
   "cell_type": "markdown",
   "metadata": {},
   "source": [
    "### Modelio vertinimas"
   ]
  },
  {
   "cell_type": "code",
   "execution_count": 51,
   "metadata": {},
   "outputs": [
    {
     "name": "stdout",
     "output_type": "stream",
     "text": [
      "945/945 [==============================] - 3s 3ms/step - loss: 0.5608 - accuracy: 0.8020\n"
     ]
    },
    {
     "data": {
      "text/plain": [
       "[0.5608142018318176, 0.80196613073349]"
      ]
     },
     "execution_count": 51,
     "metadata": {},
     "output_type": "execute_result"
    }
   ],
   "source": [
    "# įvertinam modelį su visais vertinimo rinkinio pavyzdžiais\n",
    "model_1.evaluate(val_dataset)"
   ]
  }
 ],
 "metadata": {
  "kernelspec": {
   "display_name": "tf-py38",
   "language": "python",
   "name": "python3"
  },
  "language_info": {
   "codemirror_mode": {
    "name": "ipython",
    "version": 3
   },
   "file_extension": ".py",
   "mimetype": "text/x-python",
   "name": "python",
   "nbconvert_exporter": "python",
   "pygments_lexer": "ipython3",
   "version": "3.8.15"
  },
  "orig_nbformat": 4
 },
 "nbformat": 4,
 "nbformat_minor": 2
}
