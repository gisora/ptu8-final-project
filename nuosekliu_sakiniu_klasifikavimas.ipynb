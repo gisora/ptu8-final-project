{
 "cells": [
  {
   "attachments": {},
   "cell_type": "markdown",
   "metadata": {},
   "source": [
    "# Nuoseklių sakinių klasifikavimas atsitiktinių imčių medicininių tyrimų santraukose"
   ]
  },
  {
   "attachments": {},
   "cell_type": "markdown",
   "metadata": {},
   "source": [
    "---"
   ]
  },
  {
   "attachments": {},
   "cell_type": "markdown",
   "metadata": {},
   "source": [
    "## Santrauka"
   ]
  },
  {
   "attachments": {},
   "cell_type": "markdown",
   "metadata": {},
   "source": [
    "**Tikslas:** sukurti natūralios kalbos apdorojimo (*angl. Natural Language Processing*, **NLP**) modelį, kuris palengvintų medicininių tyrimų publikacijų santraukų skaitymą."
   ]
  },
  {
   "attachments": {},
   "cell_type": "markdown",
   "metadata": {},
   "source": [
    "**Metodai:**\n",
    "- teksto vektorizacija\n",
    "- scikit-learn modelio kūrimas\n",
    "- Google TensorFlow modelių kūrimas"
   ]
  },
  {
   "attachments": {},
   "cell_type": "markdown",
   "metadata": {},
   "source": [
    "**Rezultatas:** TODO"
   ]
  },
  {
   "attachments": {},
   "cell_type": "markdown",
   "metadata": {},
   "source": [
    "**Išvada:** TODO"
   ]
  },
  {
   "attachments": {},
   "cell_type": "markdown",
   "metadata": {},
   "source": [
    "### Bibliotekų importavimas"
   ]
  },
  {
   "cell_type": "code",
   "execution_count": 1,
   "metadata": {},
   "outputs": [
    {
     "name": "stderr",
     "output_type": "stream",
     "text": [
      "2023-03-16 15:25:04.740096: I tensorflow/core/platform/cpu_feature_guard.cc:193] This TensorFlow binary is optimized with oneAPI Deep Neural Network Library (oneDNN) to use the following CPU instructions in performance-critical operations:  AVX2 FMA\n",
      "To enable them in other operations, rebuild TensorFlow with the appropriate compiler flags.\n"
     ]
    }
   ],
   "source": [
    "import os\n",
    "import numpy as np\n",
    "import pandas as pd\n",
    "import matplotlib.pyplot as plt\n",
    "import tensorflow as tf\n",
    "from tensorflow.keras import layers"
   ]
  },
  {
   "cell_type": "code",
   "execution_count": 2,
   "metadata": {},
   "outputs": [],
   "source": [
    "# išjungiam TensorFlow įspėjimų (warnings) vaizdavimą rezultatuose\n",
    "tf.compat.v1.logging.set_verbosity(tf.compat.v1.logging.ERROR)"
   ]
  },
  {
   "attachments": {},
   "cell_type": "markdown",
   "metadata": {},
   "source": [
    "## Įvadas"
   ]
  },
  {
   "attachments": {},
   "cell_type": "markdown",
   "metadata": {},
   "source": [
    "Kiekvienais metais publikuojamų medicininių tyrimų skaičius tik auga, todėl medicinos specialistams tampa vis sunkiau greitai aptikti jiems reikiamą informaciją. Tyrinėtojai nagrinėdami ankstesnes publikacijas, dažniausiai perskaito tik santraukas, norėdami greitai patikrinti, ar straipsniai atitinka jų kriterijus. Šis procesas yra lengvesnis ir greitesnis jei santrauka yra **struktūrizuota**, t.y. padalinima į semantines antraštes (etikėtes), tokias kaip **tikslas, metodas, rezultatas ir išvada**. \n",
    "\n",
    "Kiekvieno santraukos sakinio suskirstymas į atitinkamą antraštę vadinamas nuoseklių sakinių klasifikavimu. Šiai  užduočiai atlikti šiame darbe įgyvendinama dirbtinio neuroninio tinklo (*angl. artificial neural network*, **ANN**) modeliu pagrįsta sistema.\n",
    "\n",
    "Darbas atliekamas remiantis **Franck Dernoncourt**, **Ji Young Lee** ir **Peter Szolovits** 2017 metų publikacija \"[**Neural Networks for Joint Sentence Classification in Medical Paper Abstracts**](https://arxiv.org/pdf/1612.05251)\".\n",
    "\n",
    "Neuroninių modelių kūrimui naudojama atviro kodo mašininio mokymo ir dirbtinio intelekto biblioteka [**Google TensorFlow**](https://www.tensorflow.org/)."
   ]
  },
  {
   "attachments": {},
   "cell_type": "markdown",
   "metadata": {},
   "source": [
    "---"
   ]
  },
  {
   "attachments": {},
   "cell_type": "markdown",
   "metadata": {},
   "source": [
    "## Duomenų rinkinys (*angl. dataset*)"
   ]
  },
  {
   "attachments": {},
   "cell_type": "markdown",
   "metadata": {},
   "source": [
    "\n",
    "[**PubMed 200k RCT**](https://arxiv.org/pdf/1710.06071.pdf) duomenų rinkinys sudaryta iš viešai prieinamos bibliotekos [PubMed](https://pubmed.ncbi.nlm.nih.gov/) įrašų ir yra skirtas nuosekliam sakinių klasifikavimui atsitiktinės imties kontroliuojamų medicininių tyrimų santraukose. Duomenų rinkinys susideda iš ~200 tūkst. santraukų, kurias sudaro apie  2,3 mln. sakinių.\n",
    "\n",
    "Kiekvienas sakinys yra pažymėtas etikėte, nurodančia sakinio reikšmę santraukoje:\n",
    "- **background** - kilmė, ištakos\n",
    "- **objective** - tikslas\n",
    "- **methods** - metodai\n",
    "- **results** - rezultatai\n",
    "- **conclusions** - išvados\n",
    "\n",
    "Rinkinys yra viešai prieinamas [**GitHub repozitorijoje**](https://github.com/Franck-Dernoncourt/pubmed-rct)"
   ]
  },
  {
   "attachments": {},
   "cell_type": "markdown",
   "metadata": {},
   "source": [
    "### Atsiuntimas"
   ]
  },
  {
   "cell_type": "code",
   "execution_count": 3,
   "metadata": {},
   "outputs": [
    {
     "name": "stdout",
     "output_type": "stream",
     "text": [
      "fatal: destination path 'pubmed-rct' already exists and is not an empty directory.\n"
     ]
    }
   ],
   "source": [
    "!git clone https://github.com/Franck-Dernoncourt/pubmed-rct"
   ]
  },
  {
   "attachments": {},
   "cell_type": "markdown",
   "metadata": {},
   "source": [
    "### Struktūra"
   ]
  },
  {
   "cell_type": "code",
   "execution_count": 4,
   "metadata": {},
   "outputs": [
    {
     "name": "stdout",
     "output_type": "stream",
     "text": [
      "PubMed_200k_RCT\n",
      "PubMed_200k_RCT_numbers_replaced_with_at_sign\n",
      "PubMed_20k_RCT\n",
      "PubMed_20k_RCT_numbers_replaced_with_at_sign\n",
      "README.md\n"
     ]
    }
   ],
   "source": [
    "!ls pubmed-rct"
   ]
  },
  {
   "attachments": {},
   "cell_type": "markdown",
   "metadata": {},
   "source": [
    "Pagrindinis duomenų rinkinys **PubMed 200k RCT** kai kuriais atvejais gali būti per didelis, todėl papildomai yra pateikiamas **PubMed 20k RCT** rinkinys, sudarytas iš 10% pagrindiniame rinkinyje esančių vėliausiai publikuotų tyrimų santraukų.\n",
    "\n",
    "Šalia duomenų rinkinių su originaliu tekstu, pateikiamos versijos, kuriose santraukų tekste esantys skaičiai pakeisti @ simboliu."
   ]
  },
  {
   "cell_type": "code",
   "execution_count": 5,
   "metadata": {},
   "outputs": [
    {
     "name": "stdout",
     "output_type": "stream",
     "text": [
      "dev.txt  test.txt  train.txt\n"
     ]
    }
   ],
   "source": [
    "!ls pubmed-rct/PubMed_20k_RCT/"
   ]
  },
  {
   "cell_type": "code",
   "execution_count": 6,
   "metadata": {},
   "outputs": [
    {
     "name": "stdout",
     "output_type": "stream",
     "text": [
      "dev.txt  test.txt  train.7z\n"
     ]
    }
   ],
   "source": [
    "!ls pubmed-rct/PubMed_200k_RCT/"
   ]
  },
  {
   "attachments": {},
   "cell_type": "markdown",
   "metadata": {},
   "source": [
    "Rinkinio aplankuose yra po tris failus:\n",
    "- **train.txt** (**train.7z**) - mokymo santraukų rinkinys,\n",
    "- **test.txt** - testavimo santraukų rinkinys,\n",
    "- **dev.txt** - modelio įvertinimo (*angl. validation*) rinkinys."
   ]
  },
  {
   "attachments": {},
   "cell_type": "markdown",
   "metadata": {},
   "source": [
    "### Failo formatas"
   ]
  },
  {
   "cell_type": "code",
   "execution_count": 7,
   "metadata": {},
   "outputs": [],
   "source": [
    "def get_all_lines(filename: str) -> list:\n",
    "    \"\"\"\n",
    "    Grąžina nuskaityto tekstinio failo  filename  eilutes string sąraše\n",
    "    \"\"\"\n",
    "\n",
    "    with open(filename, \"r\") as f:\n",
    "        return f.readlines()"
   ]
  },
  {
   "attachments": {},
   "cell_type": "markdown",
   "metadata": {},
   "source": [
    "Kiekvienas failas turi tą patį formatą:\n",
    "- **PMID eilutė** - santraukos pradžia, publikacijos *identifikavimo numeris PubMed* bibliotekoje;\n",
    "- **santraukos sakiniai** atskirose eilutėse, kiekvienos pradžioje didžiosiomis raidėmis sakinio etiketė ir santraukos sakinio tekstas atskirti tabuliacijos simboliu (*angl. tab*);\n",
    "- **tuščia eilutė** - santraukos pabaiga.\n"
   ]
  },
  {
   "cell_type": "code",
   "execution_count": 8,
   "metadata": {},
   "outputs": [
    {
     "data": {
      "text/plain": [
       "['###24845963\\n',\n",
       " 'BACKGROUND\\tThis study analyzed liver function abnormalities in heart failure patients admitted with severe acute decompensated heart failure ( ADHF ) .\\n',\n",
       " 'RESULTS\\tA post hoc analysis was conducted with the use of data from the Evaluation Study of Congestive Heart Failure and Pulmonary Artery Catheterization Effectiveness ( ESCAPE ) .\\n',\n",
       " 'RESULTS\\tLiver function tests ( LFTs ) were measured at 7 time points from baseline , at discharge , and up to 6 months follow-up .\\n',\n",
       " 'RESULTS\\tSurvival analyses were used to assess the association between admission Model of End-Stage Liver Disease Excluding International Normalized Ratio ( MELD-XI ) scores and patient outcome.There was a high prevalence of abnormal baseline ( admission ) LFTs ( albumin 23.8 % , aspartate transaminase 23.5 % , alanine transaminase 23.8 % , and total bilirubin 36.1 % ) .\\n',\n",
       " \"RESULTS\\tThe percentage of patients with abnormal LFTs decreased significantly from baseline to 6-months ' follow-up .\\n\",\n",
       " 'RESULTS\\tWhen mean hemodynamic profiles were compared in patients with abnormal versus normal LFTs , elevated total bilirubin was associated with a significantly lower cardiac index ( 1.80 vs 2.1 ; P < .001 ) and higher central venous pressure ( 14.2 vs 12.0 ; P = .03 ) .\\n',\n",
       " 'RESULTS\\tMultivariable analyses revealed that patients with elevated MELD-XI scores ( 16.8 ) had a 2-fold ( hazard ratio2 .06 , 95 % confidence interval 1.05-4 .03 ) increased risk of death , rehospitalization , or transplantation after adjusting for baseline LFTs , age , sex , race , body mass index , diabetes , and systolic blood pressure .\\n',\n",
       " 'CONCLUSIONS\\tAbnormal LFTs are common in the ADHF population and are a dynamic marker of an impaired hemodynamic state .\\n',\n",
       " 'CONCLUSIONS\\tElevated MELD-XI scores are associated with poor outcomes among patients admitted with ADHF .\\n',\n",
       " '\\n',\n",
       " '###24469619\\n',\n",
       " 'BACKGROUND\\tMinimally invasive endovascular aneurysm repair ( EVAR ) could be a surgical technique that improves outcome of patients with ruptured abdominal aortic aneurysm ( rAAA ) .\\n',\n",
       " 'BACKGROUND\\tThe aim of this study was to analyse the cost-effectiveness and cost-utility of EVAR compared with standard open repair ( OR ) in the treatment of rAAA , with costs per 30-day and 6-month survivor as outcome parameters .\\n',\n",
       " 'METHODS\\tResource use was determined from the Amsterdam Acute Aneurysm ( AJAX ) trial , a multicentre randomized trial comparing EVAR with OR in patients with rAAA .\\n',\n",
       " 'METHODS\\tThe analysis was performed from a provider perspective .\\n',\n",
       " 'METHODS\\tAll costs were calculated as if all patients had been treated in the same hospital ( Onze Lieve Vrouwe Gasthuis , teaching hospital ) .\\n',\n",
       " 'RESULTS\\tA total of 116 patients were randomized .\\n',\n",
       " 'RESULTS\\tThe 30-day mortality rate was 21 per cent after EVAR and 25 per cent for OR : absolute risk reduction ( ARR ) 44 ( 95 per cent confidence interval ( c.i. ) -110 to 197 ) per cent .\\n',\n",
       " 'RESULTS\\tAt 6months , the total mortality rate for EVAR was 28 per cent , compared with 31 per cent among those assigned to OR : ARR 24 ( -142 to 190 ) per cent .\\n']"
      ]
     },
     "execution_count": 8,
     "metadata": {},
     "output_type": "execute_result"
    }
   ],
   "source": [
    "FOLDER_PATH = \"pubmed-rct/PubMed_20k_RCT/\"\n",
    "\n",
    "filename = os.path.join(FOLDER_PATH, \"test.txt\")\n",
    "file_lines = get_all_lines(filename)\n",
    "\n",
    "# išvedam 20 pirmų failo eilučių\n",
    "file_lines[:20]"
   ]
  },
  {
   "attachments": {},
   "cell_type": "markdown",
   "metadata": {},
   "source": [
    "### Duomenų formato keitimas"
   ]
  },
  {
   "attachments": {},
   "cell_type": "markdown",
   "metadata": {},
   "source": [
    "Patogesniam darbui su duomenų rinkiniu, perkelsime duomenys į **pandas DataFrame**.\n",
    "\n",
    "Tarpiniam formatui naudosim python žodyną:\n",
    "- **number** - sakinio numeris santraukoje\n",
    "- **target** - sakinio etiketė\n",
    "- **text**   - sakinio tekstas\n",
    "- **total**  - visų santraukoje esančių sakinių skaičius\n",
    "\n",
    "```\n",
    "[{'target': 'BACKGROUND',\n",
    "  'text': 'This study analyzed liver function abnormalities in heart failure patients admitted with severe acute decompensated heart failure ( ADHF ) .\\n',\n",
    "  'number': 0,\n",
    "  'total': 9},\n",
    " {...},\n",
    "]\n",
    "```"
   ]
  },
  {
   "cell_type": "code",
   "execution_count": 9,
   "metadata": {},
   "outputs": [],
   "source": [
    "def convert_file_lines_to_dic(filename: str) -> list:\n",
    "    \"\"\"\n",
    "    Grąžina faile  filename  esančių santraukų skaičių ir sakinių žodynų sąrašą.\n",
    "    Sakinio žodynas papildomas eilės numeriu ir visų santraukos sakinių skaičiumi.\n",
    "    \"\"\"\n",
    "        \n",
    "    all_lines = get_all_lines(filename) #nuskaitom visas faile esančias eilutes\n",
    "    abstract_count = 0\n",
    "    list_of_dicts = []\n",
    "\n",
    "    for line in all_lines:\n",
    "        if line.startswith(\"###\"):  #tikrinam ar eilutė prasideda simboliais ### (santraukos pradžia)\n",
    "            abstract = ''           \n",
    "            abstract_count += 1\n",
    "\n",
    "        elif line.isspace():        #tikrinam ar eilutė yra tuščia (santraukos pabaiga)\n",
    "            abstract_lines = abstract.splitlines()\n",
    "            total = len(abstract_lines)\n",
    "\n",
    "            \n",
    "            for i, sentence in enumerate(abstract_lines):\n",
    "                sentence_parts = sentence.split('\\t')   #[0] etiketė, [1] tekstas\n",
    "\n",
    "                sentence_dict = {}\n",
    "\n",
    "                sentence_dict['target'] = sentence_parts[0]\n",
    "                sentence_dict['text'] = sentence_parts[1]\n",
    "                sentence_dict['number'] = i\n",
    "                sentence_dict['total'] = total\n",
    "                \n",
    "                list_of_dicts.append(sentence_dict)\n",
    "       \n",
    "        else:                       #pridedam eilutę prie kitų santraukos eilučių\n",
    "            abstract += line\n",
    "    \n",
    "    return abstract_count, list_of_dicts"
   ]
  },
  {
   "cell_type": "code",
   "execution_count": 10,
   "metadata": {},
   "outputs": [],
   "source": [
    "# perkeliam duomenų rinkinio failų santraukų sakinius į žodynų sąrašus\n",
    "DATASET_PATH = \"pubmed-rct/PubMed_20k_RCT_numbers_replaced_with_at_sign/\"\n",
    "\n",
    "train_abstract_count, train_dicts = convert_file_lines_to_dic(DATASET_PATH + 'train.txt')\n",
    "test_abstract_count, test_dicts = convert_file_lines_to_dic(DATASET_PATH + 'test.txt')\n",
    "val_abstract_count, val_dicts = convert_file_lines_to_dic(DATASET_PATH + 'dev.txt')"
   ]
  },
  {
   "cell_type": "code",
   "execution_count": 11,
   "metadata": {},
   "outputs": [
    {
     "data": {
      "text/plain": [
       "[{'target': 'OBJECTIVE',\n",
       "  'text': 'To investigate the efficacy of @ weeks of daily low-dose oral prednisolone in improving pain , mobility , and systemic low-grade inflammation in the short term and whether the effect would be sustained at @ weeks in older adults with moderate to severe knee osteoarthritis ( OA ) .',\n",
       "  'number': 0,\n",
       "  'total': 12},\n",
       " {'target': 'METHODS',\n",
       "  'text': 'A total of @ patients with primary knee OA were randomized @:@ ; @ received @ mg/day of prednisolone and @ received placebo for @ weeks .',\n",
       "  'number': 1,\n",
       "  'total': 12},\n",
       " {'target': 'METHODS',\n",
       "  'text': 'Outcome measures included pain reduction and improvement in function scores and systemic inflammation markers .',\n",
       "  'number': 2,\n",
       "  'total': 12},\n",
       " {'target': 'METHODS',\n",
       "  'text': 'Pain was assessed using the visual analog pain scale ( @-@ mm ) .',\n",
       "  'number': 3,\n",
       "  'total': 12},\n",
       " {'target': 'METHODS',\n",
       "  'text': 'Secondary outcome measures included the Western Ontario and McMaster Universities Osteoarthritis Index scores , patient global assessment ( PGA ) of the severity of knee OA , and @-min walk distance ( @MWD ) .',\n",
       "  'number': 4,\n",
       "  'total': 12}]"
      ]
     },
     "execution_count": 11,
     "metadata": {},
     "output_type": "execute_result"
    }
   ],
   "source": [
    "# išvedam pirmus penkis train.txt faile esančius sakinius žodyno pavidalu\n",
    "train_dicts[:5]"
   ]
  },
  {
   "attachments": {},
   "cell_type": "markdown",
   "metadata": {},
   "source": [
    "Nauju formatu turimus duomenys galime lengvai perkelti į pandas DataFrame."
   ]
  },
  {
   "cell_type": "code",
   "execution_count": 12,
   "metadata": {},
   "outputs": [],
   "source": [
    "train_df = pd.DataFrame(train_dicts)\n",
    "test_df = pd.DataFrame(test_dicts)\n",
    "val_df = pd.DataFrame(val_dicts)"
   ]
  },
  {
   "cell_type": "code",
   "execution_count": 13,
   "metadata": {},
   "outputs": [
    {
     "data": {
      "text/html": [
       "<div>\n",
       "<style scoped>\n",
       "    .dataframe tbody tr th:only-of-type {\n",
       "        vertical-align: middle;\n",
       "    }\n",
       "\n",
       "    .dataframe tbody tr th {\n",
       "        vertical-align: top;\n",
       "    }\n",
       "\n",
       "    .dataframe thead th {\n",
       "        text-align: right;\n",
       "    }\n",
       "</style>\n",
       "<table border=\"1\" class=\"dataframe\">\n",
       "  <thead>\n",
       "    <tr style=\"text-align: right;\">\n",
       "      <th></th>\n",
       "      <th>target</th>\n",
       "      <th>text</th>\n",
       "      <th>number</th>\n",
       "      <th>total</th>\n",
       "    </tr>\n",
       "  </thead>\n",
       "  <tbody>\n",
       "    <tr>\n",
       "      <th>0</th>\n",
       "      <td>OBJECTIVE</td>\n",
       "      <td>To investigate the efficacy of @ weeks of dail...</td>\n",
       "      <td>0</td>\n",
       "      <td>12</td>\n",
       "    </tr>\n",
       "    <tr>\n",
       "      <th>1</th>\n",
       "      <td>METHODS</td>\n",
       "      <td>A total of @ patients with primary knee OA wer...</td>\n",
       "      <td>1</td>\n",
       "      <td>12</td>\n",
       "    </tr>\n",
       "    <tr>\n",
       "      <th>2</th>\n",
       "      <td>METHODS</td>\n",
       "      <td>Outcome measures included pain reduction and i...</td>\n",
       "      <td>2</td>\n",
       "      <td>12</td>\n",
       "    </tr>\n",
       "    <tr>\n",
       "      <th>3</th>\n",
       "      <td>METHODS</td>\n",
       "      <td>Pain was assessed using the visual analog pain...</td>\n",
       "      <td>3</td>\n",
       "      <td>12</td>\n",
       "    </tr>\n",
       "    <tr>\n",
       "      <th>4</th>\n",
       "      <td>METHODS</td>\n",
       "      <td>Secondary outcome measures included the Wester...</td>\n",
       "      <td>4</td>\n",
       "      <td>12</td>\n",
       "    </tr>\n",
       "  </tbody>\n",
       "</table>\n",
       "</div>"
      ],
      "text/plain": [
       "      target                                               text  number  total\n",
       "0  OBJECTIVE  To investigate the efficacy of @ weeks of dail...       0     12\n",
       "1    METHODS  A total of @ patients with primary knee OA wer...       1     12\n",
       "2    METHODS  Outcome measures included pain reduction and i...       2     12\n",
       "3    METHODS  Pain was assessed using the visual analog pain...       3     12\n",
       "4    METHODS  Secondary outcome measures included the Wester...       4     12"
      ]
     },
     "execution_count": 13,
     "metadata": {},
     "output_type": "execute_result"
    }
   ],
   "source": [
    "train_df.head()"
   ]
  },
  {
   "attachments": {},
   "cell_type": "markdown",
   "metadata": {},
   "source": [
    "### Duomenų rinkinių analizė ir vizualizavimas"
   ]
  },
  {
   "attachments": {},
   "cell_type": "markdown",
   "metadata": {},
   "source": [
    "Bazinio ir pradinių modelių sudarymui naudosime 10% pavyzdžių rinkinį **PubMed_20k_RCT_numbers_replaced_with_at_sign**."
   ]
  },
  {
   "cell_type": "code",
   "execution_count": 14,
   "metadata": {},
   "outputs": [
    {
     "name": "stdout",
     "output_type": "stream",
     "text": [
      "Santraukų skaičius:\n",
      "\ttrain - 15000\n",
      "\ttest - 2500\n",
      "\tval - 2500\n",
      "\n",
      "Sakinių skaičius:\n",
      "\ttrain - 180040\n",
      "\ttest - 30135\n",
      "\tval - 30212\n",
      "\n",
      "Iš viso:\n",
      "\tSantraukų: 20000\n",
      "\tSakinių: 240387\n"
     ]
    }
   ],
   "source": [
    "print(\"Santraukų skaičius:\")\n",
    "print(f\"\\ttrain - {train_abstract_count}\")\n",
    "print(f\"\\ttest - {test_abstract_count}\")\n",
    "print(f\"\\tval - {val_abstract_count}\")\n",
    "\n",
    "print(\"\\nSakinių skaičius:\")\n",
    "print(f\"\\ttrain - {train_df.shape[0]}\")\n",
    "print(f\"\\ttest - {test_df.shape[0]}\")\n",
    "print(f\"\\tval - {val_df.shape[0]}\")\n",
    "\n",
    "print(f\"\\nIš viso:\")\n",
    "print(f\"\\tSantraukų: {train_abstract_count + test_abstract_count + val_abstract_count}\")\n",
    "print(f\"\\tSakinių: {train_df.shape[0] + test_df.shape[0] + val_df.shape[0]}\")"
   ]
  },
  {
   "cell_type": "code",
   "execution_count": 15,
   "metadata": {},
   "outputs": [
    {
     "data": {
      "image/png": "[encoded data removed]",
      "text/plain": [
       "<Figure size 640x480 with 1 Axes>"
      ]
     },
     "metadata": {},
     "output_type": "display_data"
    }
   ],
   "source": [
    "# sakinio etikečių pasiskirtymas train rinkinyje\n",
    "train_df['target'].value_counts().plot.barh();"
   ]
  },
  {
   "cell_type": "code",
   "execution_count": 16,
   "metadata": {},
   "outputs": [
    {
     "data": {
      "image/png": "[encoded data removed]",
      "text/plain": [
       "<Figure size 640x480 with 1 Axes>"
      ]
     },
     "metadata": {},
     "output_type": "display_data"
    }
   ],
   "source": [
    "# sakinio etikečių pasiskirtymas test rinkinyje\n",
    "test_df['target'].value_counts().plot.barh();"
   ]
  },
  {
   "cell_type": "code",
   "execution_count": 17,
   "metadata": {},
   "outputs": [
    {
     "data": {
      "image/png": "[encoded data removed]",
      "text/plain": [
       "<Figure size 640x480 with 1 Axes>"
      ]
     },
     "metadata": {},
     "output_type": "display_data"
    }
   ],
   "source": [
    "# sakinio etikečių pasiskirtymas val rinkinyje\n",
    "val_df['target'].value_counts().plot.barh();"
   ]
  },
  {
   "attachments": {},
   "cell_type": "markdown",
   "metadata": {},
   "source": [
    "---"
   ]
  },
  {
   "attachments": {},
   "cell_type": "markdown",
   "metadata": {},
   "source": [
    "## Modelis 0: Bazinis modelis"
   ]
  },
  {
   "attachments": {},
   "cell_type": "markdown",
   "metadata": {},
   "source": [
    "**Bazinis modelis** - atskaitos taškas, su kuriuo lyginsime kitus modelius. Šis modelis mums padės įvertinti ar apsibrėžtai užduočiai reikia sudėtingesnio ANN modelio.\n",
    "\n",
    "Remiantis [scikit-learn modelio parinkimo žemėlapiu](https://scikit-learn.org/stable/tutorial/machine_learning_map/index.html) bazinių modelių buvo pasirinktas [daugianaris Naive Bayes klasifikatorius](https://scikit-learn.org/stable/modules/generated/sklearn.naive_bayes.MultinomialNB.html#sklearn.naive_bayes.MultinomialNB), kuris apskaičiuos žodžio ar termino pasikartojimo konkrečios etiketės sakinyje tikimybę.\n",
    "\n",
    "Kadangi klasifikuojame tekstą, jį reikia paversti skaitinėmis reikšmėmis. Tekstą transformuosime su [scikit-learn](https://scikit-learn.org) teksto savybių išskyrimo funkcija [TfidfVectorizer](https://scikit-learn.org/stable/modules/generated/sklearn.feature_extraction.text.TfidfVectorizer.html#), kuri retesniems terminams suteikia daugiau svarbos."
   ]
  },
  {
   "attachments": {},
   "cell_type": "markdown",
   "metadata": {},
   "source": [
    "### Duomenų paruošimas"
   ]
  },
  {
   "attachments": {},
   "cell_type": "markdown",
   "metadata": {},
   "source": [
    "Baziniam modeliui naudosime santraukų sakinių tekstą (*text*) ir jų etikėtes kaip klasifikavimo klasės reikšmes (*target*)."
   ]
  },
  {
   "cell_type": "code",
   "execution_count": 18,
   "metadata": {},
   "outputs": [],
   "source": [
    "# išskyriam santraukų sakinių tekstą\n",
    "X_train = train_df[\"text\"].to_list()\n",
    "X_test = test_df[\"text\"].to_list()\n",
    "X_val = val_df[\"text\"].to_list()"
   ]
  },
  {
   "cell_type": "code",
   "execution_count": 19,
   "metadata": {},
   "outputs": [
    {
     "data": {
      "text/plain": [
       "['To investigate the efficacy of @ weeks of daily low-dose oral prednisolone in improving pain , mobility , and systemic low-grade inflammation in the short term and whether the effect would be sustained at @ weeks in older adults with moderate to severe knee osteoarthritis ( OA ) .',\n",
       " 'A total of @ patients with primary knee OA were randomized @:@ ; @ received @ mg/day of prednisolone and @ received placebo for @ weeks .',\n",
       " 'Outcome measures included pain reduction and improvement in function scores and systemic inflammation markers .',\n",
       " 'Pain was assessed using the visual analog pain scale ( @-@ mm ) .',\n",
       " 'Secondary outcome measures included the Western Ontario and McMaster Universities Osteoarthritis Index scores , patient global assessment ( PGA ) of the severity of knee OA , and @-min walk distance ( @MWD ) .']"
      ]
     },
     "execution_count": 19,
     "metadata": {},
     "output_type": "execute_result"
    }
   ],
   "source": [
    "# išvedam pirmus penkis X_train sąrašo elementus\n",
    "X_train[:5]"
   ]
  },
  {
   "attachments": {},
   "cell_type": "markdown",
   "metadata": {},
   "source": [
    "Mašininio mokymo modeliai tai pat reikalauja skaičiais išreikštų rezultato reikšmių, todėl sakinių etiketes konvertuosime į skaičius:\n",
    "- su [scikit-learn](https://scikit-learn.org) funkcija [LabelEncoder](https://scikit-learn.org/stable/modules/generated/sklearn.preprocessing.LabelEncoder.html)\n",
    "- su [scikit-learn](https://scikit-learn.org) funkcija [OneHotEncoder](https://scikit-learn.org/stable/modules/generated/sklearn.preprocessing.OneHotEncoder.html)"
   ]
  },
  {
   "cell_type": "code",
   "execution_count": 20,
   "metadata": {},
   "outputs": [],
   "source": [
    "from sklearn.preprocessing import LabelEncoder, OneHotEncoder"
   ]
  },
  {
   "cell_type": "code",
   "execution_count": 21,
   "metadata": {},
   "outputs": [],
   "source": [
    "# konvertuojam etikečių reikšmes į skaičius su LabelEncoder\n",
    "label_encoder = LabelEncoder()\n",
    "\n",
    "y_train = label_encoder.fit_transform(train_df[\"target\"])\n",
    "y_test = label_encoder.transform(test_df[\"target\"])   \n",
    "y_val = label_encoder.transform(val_df[\"target\"])"
   ]
  },
  {
   "cell_type": "code",
   "execution_count": 22,
   "metadata": {},
   "outputs": [
    {
     "data": {
      "text/plain": [
       "array([3, 2, 2, 2, 2])"
      ]
     },
     "execution_count": 22,
     "metadata": {},
     "output_type": "execute_result"
    }
   ],
   "source": [
    "# išedam pirmas 5 LabelEncoder užkuoduotas train etiketes\n",
    "y_train[:5]"
   ]
  },
  {
   "cell_type": "code",
   "execution_count": 23,
   "metadata": {},
   "outputs": [
    {
     "data": {
      "text/plain": [
       "array(['BACKGROUND', 'CONCLUSIONS', 'METHODS', 'OBJECTIVE', 'RESULTS'],\n",
       "      dtype=object)"
      ]
     },
     "execution_count": 23,
     "metadata": {},
     "output_type": "execute_result"
    }
   ],
   "source": [
    "# išsaugom etikėčių reikšmes\n",
    "etiketes = label_encoder.classes_\n",
    "etiketes"
   ]
  },
  {
   "cell_type": "code",
   "execution_count": 24,
   "metadata": {},
   "outputs": [],
   "source": [
    "# konvertuojam etikečių reikšmes į skaičius su OneHotEncoder\n",
    "onehot_encoder = OneHotEncoder(sparse_output=False)\n",
    "\n",
    "y_train_onehot = onehot_encoder.fit_transform(train_df[\"target\"].to_numpy().reshape(-1, 1))\n",
    "y_test_onehot = onehot_encoder.transform(test_df[\"target\"].to_numpy().reshape(-1, 1))   \n",
    "y_val_onehot = onehot_encoder.transform(val_df[\"target\"].to_numpy().reshape(-1, 1))"
   ]
  },
  {
   "cell_type": "code",
   "execution_count": 25,
   "metadata": {},
   "outputs": [
    {
     "data": {
      "text/plain": [
       "array([[0., 0., 0., 1., 0.],\n",
       "       [0., 0., 1., 0., 0.],\n",
       "       [0., 0., 1., 0., 0.],\n",
       "       [0., 0., 1., 0., 0.],\n",
       "       [0., 0., 1., 0., 0.]])"
      ]
     },
     "execution_count": 25,
     "metadata": {},
     "output_type": "execute_result"
    }
   ],
   "source": [
    "# išedam pirmas 5 OneHotEncoder užkuoduotas train etiketes\n",
    "y_train_onehot[:5]"
   ]
  },
  {
   "attachments": {},
   "cell_type": "markdown",
   "metadata": {},
   "source": [
    "### Modelio kūrimas"
   ]
  },
  {
   "attachments": {},
   "cell_type": "markdown",
   "metadata": {},
   "source": [
    "Prieš perduodant duomenys į modelį juos reikia transformuoti, todėl teksto transformatorių ir klasifikatorių apjungiam panaudojant [scikit-learn](https://scikit-learn.org) klasės [Pipeline](https://scikit-learn.org/stable/modules/generated/sklearn.pipeline.Pipeline.html) objektą, kuriame nurodom, kokia eilės tvarka atlikti veiksmus."
   ]
  },
  {
   "cell_type": "code",
   "execution_count": 26,
   "metadata": {},
   "outputs": [],
   "source": [
    "from sklearn.feature_extraction.text import TfidfVectorizer\n",
    "from sklearn.naive_bayes import MultinomialNB\n",
    "from sklearn.pipeline import Pipeline"
   ]
  },
  {
   "cell_type": "code",
   "execution_count": 27,
   "metadata": {},
   "outputs": [],
   "source": [
    "# sukūriam bazinį modelį\n",
    "model_0 = Pipeline([\n",
    "    (\"tf-idf\", TfidfVectorizer()),  # teksto transformatorius\n",
    "    (\"clf\", MultinomialNB())        # Naive Bayse dauginaris klasifikatorius\n",
    "])"
   ]
  },
  {
   "attachments": {},
   "cell_type": "markdown",
   "metadata": {},
   "source": [
    "### Modelio mokymas"
   ]
  },
  {
   "attachments": {},
   "cell_type": "markdown",
   "metadata": {},
   "source": [
    "Bazinio modelio mokymui perduodame **train** rinkinio sakinių tekstą **X_train** ir skaičiais užkoduotas sakinių etikėtes **y_train**."
   ]
  },
  {
   "cell_type": "code",
   "execution_count": 28,
   "metadata": {},
   "outputs": [
    {
     "data": {
      "text/html": [
       "<style>#sk-container-id-1 {color: black;background-color: white;}#sk-container-id-1 pre{padding: 0;}#sk-container-id-1 div.sk-toggleable {background-color: white;}#sk-container-id-1 label.sk-toggleable__label {cursor: pointer;display: block;width: 100%;margin-bottom: 0;padding: 0.3em;box-sizing: border-box;text-align: center;}#sk-container-id-1 label.sk-toggleable__label-arrow:before {content: \"▸\";float: left;margin-right: 0.25em;color: #696969;}#sk-container-id-1 label.sk-toggleable__label-arrow:hover:before {color: black;}#sk-container-id-1 div.sk-estimator:hover label.sk-toggleable__label-arrow:before {color: black;}#sk-container-id-1 div.sk-toggleable__content {max-height: 0;max-width: 0;overflow: hidden;text-align: left;background-color: #f0f8ff;}#sk-container-id-1 div.sk-toggleable__content pre {margin: 0.2em;color: black;border-radius: 0.25em;background-color: #f0f8ff;}#sk-container-id-1 input.sk-toggleable__control:checked~div.sk-toggleable__content {max-height: 200px;max-width: 100%;overflow: auto;}#sk-container-id-1 input.sk-toggleable__control:checked~label.sk-toggleable__label-arrow:before {content: \"▾\";}#sk-container-id-1 div.sk-estimator input.sk-toggleable__control:checked~label.sk-toggleable__label {background-color: #d4ebff;}#sk-container-id-1 div.sk-label input.sk-toggleable__control:checked~label.sk-toggleable__label {background-color: #d4ebff;}#sk-container-id-1 input.sk-hidden--visually {border: 0;clip: rect(1px 1px 1px 1px);clip: rect(1px, 1px, 1px, 1px);height: 1px;margin: -1px;overflow: hidden;padding: 0;position: absolute;width: 1px;}#sk-container-id-1 div.sk-estimator {font-family: monospace;background-color: #f0f8ff;border: 1px dotted black;border-radius: 0.25em;box-sizing: border-box;margin-bottom: 0.5em;}#sk-container-id-1 div.sk-estimator:hover {background-color: #d4ebff;}#sk-container-id-1 div.sk-parallel-item::after {content: \"\";width: 100%;border-bottom: 1px solid gray;flex-grow: 1;}#sk-container-id-1 div.sk-label:hover label.sk-toggleable__label {background-color: #d4ebff;}#sk-container-id-1 div.sk-serial::before {content: \"\";position: absolute;border-left: 1px solid gray;box-sizing: border-box;top: 0;bottom: 0;left: 50%;z-index: 0;}#sk-container-id-1 div.sk-serial {display: flex;flex-direction: column;align-items: center;background-color: white;padding-right: 0.2em;padding-left: 0.2em;position: relative;}#sk-container-id-1 div.sk-item {position: relative;z-index: 1;}#sk-container-id-1 div.sk-parallel {display: flex;align-items: stretch;justify-content: center;background-color: white;position: relative;}#sk-container-id-1 div.sk-item::before, #sk-container-id-1 div.sk-parallel-item::before {content: \"\";position: absolute;border-left: 1px solid gray;box-sizing: border-box;top: 0;bottom: 0;left: 50%;z-index: -1;}#sk-container-id-1 div.sk-parallel-item {display: flex;flex-direction: column;z-index: 1;position: relative;background-color: white;}#sk-container-id-1 div.sk-parallel-item:first-child::after {align-self: flex-end;width: 50%;}#sk-container-id-1 div.sk-parallel-item:last-child::after {align-self: flex-start;width: 50%;}#sk-container-id-1 div.sk-parallel-item:only-child::after {width: 0;}#sk-container-id-1 div.sk-dashed-wrapped {border: 1px dashed gray;margin: 0 0.4em 0.5em 0.4em;box-sizing: border-box;padding-bottom: 0.4em;background-color: white;}#sk-container-id-1 div.sk-label label {font-family: monospace;font-weight: bold;display: inline-block;line-height: 1.2em;}#sk-container-id-1 div.sk-label-container {text-align: center;}#sk-container-id-1 div.sk-container {/* jupyter's `normalize.less` sets `[hidden] { display: none; }` but bootstrap.min.css set `[hidden] { display: none !important; }` so we also need the `!important` here to be able to override the default hidden behavior on the sphinx rendered scikit-learn.org. See: https://github.com/scikit-learn/scikit-learn/issues/21755 */display: inline-block !important;position: relative;}#sk-container-id-1 div.sk-text-repr-fallback {display: none;}</style><div id=\"sk-container-id-1\" class=\"sk-top-container\"><div class=\"sk-text-repr-fallback\"><pre>Pipeline(steps=[(&#x27;tf-idf&#x27;, TfidfVectorizer()), (&#x27;clf&#x27;, MultinomialNB())])</pre><b>In a Jupyter environment, please rerun this cell to show the HTML representation or trust the notebook. <br />On GitHub, the HTML representation is unable to render, please try loading this page with nbviewer.org.</b></div><div class=\"sk-container\" hidden><div class=\"sk-item sk-dashed-wrapped\"><div class=\"sk-label-container\"><div class=\"sk-label sk-toggleable\"><input class=\"sk-toggleable__control sk-hidden--visually\" id=\"sk-estimator-id-1\" type=\"checkbox\" ><label for=\"sk-estimator-id-1\" class=\"sk-toggleable__label sk-toggleable__label-arrow\">Pipeline</label><div class=\"sk-toggleable__content\"><pre>Pipeline(steps=[(&#x27;tf-idf&#x27;, TfidfVectorizer()), (&#x27;clf&#x27;, MultinomialNB())])</pre></div></div></div><div class=\"sk-serial\"><div class=\"sk-item\"><div class=\"sk-estimator sk-toggleable\"><input class=\"sk-toggleable__control sk-hidden--visually\" id=\"sk-estimator-id-2\" type=\"checkbox\" ><label for=\"sk-estimator-id-2\" class=\"sk-toggleable__label sk-toggleable__label-arrow\">TfidfVectorizer</label><div class=\"sk-toggleable__content\"><pre>TfidfVectorizer()</pre></div></div></div><div class=\"sk-item\"><div class=\"sk-estimator sk-toggleable\"><input class=\"sk-toggleable__control sk-hidden--visually\" id=\"sk-estimator-id-3\" type=\"checkbox\" ><label for=\"sk-estimator-id-3\" class=\"sk-toggleable__label sk-toggleable__label-arrow\">MultinomialNB</label><div class=\"sk-toggleable__content\"><pre>MultinomialNB()</pre></div></div></div></div></div></div></div>"
      ],
      "text/plain": [
       "Pipeline(steps=[('tf-idf', TfidfVectorizer()), ('clf', MultinomialNB())])"
      ]
     },
     "execution_count": 28,
     "metadata": {},
     "output_type": "execute_result"
    }
   ],
   "source": [
    "model_0.fit(X_train, y_train)"
   ]
  },
  {
   "attachments": {},
   "cell_type": "markdown",
   "metadata": {},
   "source": [
    "### Rezultatai"
   ]
  },
  {
   "attachments": {},
   "cell_type": "markdown",
   "metadata": {},
   "source": [
    "Klasifikacijos problemos sprendimas dažniausiai vertinamos pagal šiuos parametrus:\n",
    "- **accuracy** - tikslumas, rodantis kiek klasifikacija yra arti tikrosios vertės\n",
    "- **precision** - kiek iš visų \"*true*\" identifikuotų reikšmių ištikro yra \"*true*\"\n",
    "- **recall** - kiek visų rinkinyje esančiu \"*true*\" reikšmių įdentifikuota teisingai\n",
    "- **F1 score** - sunjungia *precision* ir *recall* į vieną vertę"
   ]
  },
  {
   "cell_type": "code",
   "execution_count": 29,
   "metadata": {},
   "outputs": [],
   "source": [
    "accuracy = model_0.score(X_test, y_test)"
   ]
  },
  {
   "cell_type": "code",
   "execution_count": 30,
   "metadata": {},
   "outputs": [],
   "source": [
    "# precision, recall ir F1 score įverčių skaičiavimui naudosime scikit-learn funkciją\n",
    "from sklearn.metrics import precision_recall_fscore_support\n",
    "\n",
    "model_0_pred = model_0.predict(X_test)\n",
    "precision, recall, fscore, _ = precision_recall_fscore_support(y_test, model_0_pred, average=\"weighted\")\n"
   ]
  },
  {
   "cell_type": "code",
   "execution_count": 31,
   "metadata": {},
   "outputs": [
    {
     "name": "stdout",
     "output_type": "stream",
     "text": [
      "Bazinio modelio rezultatai:\n",
      "\taccuracy: \t71.67%\n",
      "\tprecision: \t71.24%\n",
      "\trecall: \t71.67%\n",
      "\tF1 score: \t69.25%\n"
     ]
    }
   ],
   "source": [
    "print(\"Bazinio modelio rezultatai:\")\n",
    "print(f\"\\taccuracy: \\t{(accuracy * 100):.2f}%\")\n",
    "print(f\"\\tprecision: \\t{(precision * 100):.2f}%\")\n",
    "print(f\"\\trecall: \\t{(recall * 100):.2f}%\")\n",
    "print(f\"\\tF1 score: \\t{(fscore * 100):.2f}%\")"
   ]
  },
  {
   "attachments": {},
   "cell_type": "markdown",
   "metadata": {},
   "source": [
    "><br>\n",
    ">Pagal gautus rezultatus matome, kad mūsų bazinis modelis <b>~70% tikslumu</b> pritaiko teisingą sakinio etikėtę.<br>\n",
    "><br>\n",
    ">Reikia nepamiršti, kad bazinis modelis nekreipia dėmesio į sakinio vietą santraukoje, o klasifikuoja pagal dažniausiai pasitaikančius žodžius ar terminus.<br>\n",
    "><br>"
   ]
  },
  {
   "attachments": {},
   "cell_type": "markdown",
   "metadata": {},
   "source": [
    "Sudarę sprendimų/sumaišties matricą (***angl. Confusion Matrix***) pamatysime kiek kartų kiekviena etikėtė buvo identifikuota teisingai ir kiek kartų supainioto su kitomis.\n",
    "\n",
    "Confusion matrica sudarysime su [scikit-learn](https://scikit-learn.org) funkcija [confusion_matrix](https://scikit-learn.org/stable/modules/generated/sklearn.metrics.confusion_matrix.html), atvaizduosime su klasės [ConfusionMatrixDisplay](https://scikit-learn.org/stable/modules/generated/sklearn.metrics.ConfusionMatrixDisplay.html) objektu. "
   ]
  },
  {
   "cell_type": "code",
   "execution_count": 32,
   "metadata": {},
   "outputs": [],
   "source": [
    "from sklearn.metrics import confusion_matrix, ConfusionMatrixDisplay\n",
    "\n",
    "def plot_confusion_matrix(y_true, y_pred, display_labels):\n",
    "    \"\"\"\n",
    "    Grąžina Confusion matricos diagramą\n",
    "\n",
    "    Args:\n",
    "        y_true: teisingos reikšmės\n",
    "        y_pred: modelio spėtos reikšmės\n",
    "        display_labels: klasių pavadinimai\n",
    "    \"\"\"   \n",
    "\n",
    "    cm = confusion_matrix(y_true, y_pred)\n",
    "    cm_plot = ConfusionMatrixDisplay(confusion_matrix=cm, display_labels=display_labels)\n",
    "    cm_plot.plot(xticks_rotation=\"vertical\", cmap=\"Blues\", colorbar=False);"
   ]
  },
  {
   "cell_type": "code",
   "execution_count": 33,
   "metadata": {},
   "outputs": [
    {
     "data": {
      "image/png": "[encoded data removed]",
      "text/plain": [
       "<Figure size 640x480 with 1 Axes>"
      ]
     },
     "metadata": {},
     "output_type": "display_data"
    }
   ],
   "source": [
    "plot_confusion_matrix(y_test, model_0_pred, etiketes)"
   ]
  },
  {
   "cell_type": "code",
   "execution_count": 34,
   "metadata": {},
   "outputs": [],
   "source": [
    "precisions, recalls, fscores, _ = precision_recall_fscore_support(y_test, model_0_pred)"
   ]
  },
  {
   "cell_type": "code",
   "execution_count": 35,
   "metadata": {},
   "outputs": [
    {
     "name": "stdout",
     "output_type": "stream",
     "text": [
      "Label        | Precision | Recall | F1 score |\n",
      "----------------------------------------------\n",
      "BACKGROUND   |     64.72 |  46.62 |    54.20 |\n",
      "CONCLUSIONS  |     63.15 |  57.80 |    60.35 |\n",
      "METHODS      |     72.26 |  87.73 |    79.25 |\n",
      "OBJECTIVE    |     73.68 |  12.60 |    21.52 |\n",
      "RESULTS      |     75.86 |  85.35 |    80.33 |\n"
     ]
    }
   ],
   "source": [
    "# išvedam kiekvienos etikėtes klasifikavimo rezultatą\n",
    "print(f\"{'Label':12} | Precision | Recall | F1 score |\")\n",
    "print(\"-\"*46)\n",
    "for i, label in enumerate(etiketes):\n",
    "    print(f\"{label:12} | {(precisions[i]*100):9.2f} | {(recalls[i]*100):6.2f} | {(fscores[i]*100):8.2f} |\")"
   ]
  },
  {
   "attachments": {},
   "cell_type": "markdown",
   "metadata": {},
   "source": [
    "><br>\n",
    ">Baziniam modeliui sunkiausiai sekasi identifikuoti OBJECTIVE etiketę, kuri dažniausiai identifikuojama kaip METHODS arba BACKGROUND.<br>\n",
    "><br>\n",
    ">Geriausiai sekasi identifikuoti RESULTS ir METHODS etiketes, kurios tarpusavyje dažniausiai ir maišomos.<br>\n",
    "><br>\n",
    ">Šį rezultatą lemia etikėte pažymėtų sakinių skaičius duomenų rinkinyje, t.y. žodžiai/terminai dažniausiai pasikartos tos etiketės sakiniuose, kurios sakinių daugiausia.<br>\n",
    "><br>"
   ]
  },
  {
   "attachments": {},
   "cell_type": "markdown",
   "metadata": {},
   "source": [
    "---"
   ]
  },
  {
   "attachments": {},
   "cell_type": "markdown",
   "metadata": {},
   "source": [
    "## Modelis 1: Conv1D with token embedding"
   ]
  },
  {
   "attachments": {},
   "cell_type": "markdown",
   "metadata": {},
   "source": [
    "TensorFlow ANN modelį sudaris šie sluoksniai:\n",
    "1. **Input** - įvedimo sluoksnis, kuriam perduodamas santraukos sakinio tekstas ir etiketė\n",
    "2. **TextVectorizer** - sužymi sakinio žodžius sveikais skaičiais, pagal iš anksto sudarytą žodžių (*token*) žodyną\n",
    "3. **Embedding** - paverčia kiekvieną sveiku skaičiumi pažymėtą sakinio žodį nurodyto fiksuoto dydžio vekoriumi\n",
    "4. **Conv1D** - atlieka vienmatę konvoliuciją pagal nurodyto dydžio langą (*kernel*)\n",
    "5. **GlobalAveragePooling1D** - sutankina Conv1D rezultata, grąžindamas vidurkių vektorių\n",
    "6. **Dense** - išvedimo sluoknis, grąžina kiekvienos etikėtės tikimybę"
   ]
  },
  {
   "attachments": {},
   "cell_type": "markdown",
   "metadata": {},
   "source": [
    " ### Duomenų paruošimas TensorFlow modeliams"
   ]
  },
  {
   "attachments": {},
   "cell_type": "markdown",
   "metadata": {},
   "source": [
    "**Tokenization** yra žodžių, skaičių simbolių ir (arba) skyrybos ženklų pavertimas sveikais skaičiais. Šio proceso metu yra sudaromas nurodyto dydžio žodynas, kuriame žodis (*token*) susiejamas su skaičiumi, žodžiai rikiuojami mažėjimo tvarka nuo dažniausiai pasikartojančio.\n",
    "\n",
    "**Embedding** proceso metu sveiki token'ų skaičiai paverčiami fiksuoto dydžio vektoriais.\n",
    "\n",
    "Santraukų sakinių vektorizacija atliksime su [TextVectorization](https://www.tensorflow.org/api_docs/python/tf/keras/layers/TextVectorization) sluoksniu, kuriam nurodysime pageidaujamo tokenizacijos žodyno dydį bei vektorizuoto santraukos sakinio ilgį. Todėl pirmiausia turime išsiaiškinti kokio vdutiniškai ilgio yra santraukų sakiniai bei kiek skirtingų žodžių yra naudojamo rinkinio santraukose."
   ]
  },
  {
   "cell_type": "code",
   "execution_count": 36,
   "metadata": {},
   "outputs": [
    {
     "name": "stdout",
     "output_type": "stream",
     "text": [
      "Sakinių ilgių vidurkis: 26 žodžiai\n",
      "Ilgiausias sakinys: 296 žodžiai\n"
     ]
    }
   ],
   "source": [
    "# randam santraukų sakinių ilgių vidurkį bei ilgiausio sakinio ilgį X_train rinkinyje\n",
    "sentence_lens = [len(sentence.split()) for sentence in X_train] # sudarom sakinių ilgių sąrašą\n",
    "avg_sentence_len = int(np.mean(sentence_lens)) # vidutinis žodžių skaičius sakinyje\n",
    "max_sentence_len = np.max(sentence_lens) # ilgiausio sakinio žodžių skaičius\n",
    "\n",
    "print(f\"Sakinių ilgių vidurkis: {avg_sentence_len} žodžiai\")\n",
    "print(f\"Ilgiausias sakinys: {max_sentence_len} žodžiai\")"
   ]
  },
  {
   "cell_type": "code",
   "execution_count": 37,
   "metadata": {},
   "outputs": [
    {
     "data": {
      "image/png": "[encoded data removed]",
      "text/plain": [
       "<Figure size 1500x500 with 2 Axes>"
      ]
     },
     "metadata": {},
     "output_type": "display_data"
    }
   ],
   "source": [
    "# atvaizduojam sakinių ilgių pasiskirstymą su histograma\n",
    "fig, ax = plt.subplots(1, 2, figsize=(15, 5))\n",
    "fig.suptitle(\"Sakinių ilgių pasiskirstymas\")\n",
    "\n",
    "ax[0].hist(sentence_lens, bins=15)\n",
    "ax[1].hist(sentence_lens, bins=15, range=[0, 100], facecolor='green', align='mid')\n",
    "\n",
    "plt.show()"
   ]
  },
  {
   "cell_type": "code",
   "execution_count": 38,
   "metadata": {},
   "outputs": [
    {
     "name": "stdout",
     "output_type": "stream",
     "text": [
      "Maksimalus sakinių ilgis tarp 95% visų sakinių: 55 žodžiai\n"
     ]
    }
   ],
   "source": [
    "# randam kokio maksimalaus ilgio yra 95% visų sakinių\n",
    "output_sentence_len = int(np.percentile(sentence_lens, 95))\n",
    "print(f\"Maksimalus sakinių ilgis tarp 95% visų sakinių: {output_sentence_len} žodžiai\")"
   ]
  },
  {
   "attachments": {},
   "cell_type": "markdown",
   "metadata": {},
   "source": [
    "#### Sakinių teksto vektorizacija"
   ]
  },
  {
   "attachments": {},
   "cell_type": "markdown",
   "metadata": {},
   "source": [
    "Atlikti santraukų sakinių teksto vektorizacijai papildomai reikia visų skirtingų žodžių skaičiaus, šis skaičius nurodytas duomenų rinkinio [**PubMed 200k RCT**](https://arxiv.org/pdf/1710.06071.pdf) aprašymo antroje lentelėje.\n",
    "\n",
    "Rinkinio **PubMed_20k_RCT** žodyną sudaro **68 tūkst.** žodžių."
   ]
  },
  {
   "cell_type": "code",
   "execution_count": 39,
   "metadata": {},
   "outputs": [
    {
     "name": "stderr",
     "output_type": "stream",
     "text": [
      "2023-03-16 15:25:17.662538: I tensorflow/core/platform/cpu_feature_guard.cc:193] This TensorFlow binary is optimized with oneAPI Deep Neural Network Library (oneDNN) to use the following CPU instructions in performance-critical operations:  AVX2 FMA\n",
      "To enable them in other operations, rebuild TensorFlow with the appropriate compiler flags.\n",
      "2023-03-16 15:25:18.148214: I tensorflow/core/common_runtime/gpu/gpu_device.cc:1613] Created device /job:localhost/replica:0/task:0/device:GPU:0 with 4406 MB memory:  -> device: 0, name: NVIDIA GeForce GTX 1060 6GB, pci bus id: 0000:01:00.0, compute capability: 6.1\n"
     ]
    }
   ],
   "source": [
    "# nurodom maksimalu duomenų rinkinio žodyno dydį\n",
    "max_tokens = 68000\n",
    "\n",
    "# sukuriam vektorizavimo sluoksnį\n",
    "text_vectorizer = layers.TextVectorization(max_tokens=max_tokens,\n",
    "                                           output_sequence_length=output_sentence_len)\n",
    "\n",
    "# sukuriam tokenizacijos žodyną naudojant X_train sakinius\n",
    "text_vectorizer.adapt(X_train)"
   ]
  },
  {
   "cell_type": "code",
   "execution_count": 40,
   "metadata": {},
   "outputs": [
    {
     "name": "stdout",
     "output_type": "stream",
     "text": [
      "Originalus sakinio tekstas:\n",
      "Outcome measures included pain reduction and improvement in function scores and systemic inflammation markers .\n",
      "\n",
      "Vektorizuotas sakinio tekstas:\n",
      "[[ 86 213 121  65 169   3 194   5 149 119   3 670 636 747   0   0   0   0\n",
      "    0   0   0   0   0   0   0   0   0   0   0   0   0   0   0   0   0   0\n",
      "    0   0   0   0   0   0   0   0   0   0   0   0   0   0   0   0   0   0\n",
      "    0]]\n"
     ]
    }
   ],
   "source": [
    "# patikrinam teksto sakinių vektorizaciją su pasirinktu sakiniu\n",
    "test_sentence = X_train[2]\n",
    "\n",
    "print(f\"Originalus sakinio tekstas:\\n{test_sentence}\\n\")\n",
    "print(f\"Vektorizuotas sakinio tekstas:\\n{text_vectorizer([test_sentence])}\")"
   ]
  },
  {
   "cell_type": "code",
   "execution_count": 41,
   "metadata": {},
   "outputs": [
    {
     "name": "stdout",
     "output_type": "stream",
     "text": [
      "Žodžių skaičius žodyne: 64841\n",
      "Dažniausi žodžiai: ['', '[UNK]', 'the', 'and', 'of', 'in', 'to', 'with', 'a', 'were']\n",
      "Rečiausi žodžiai: ['aarm', 'aaqol', 'aaq', 'aanhui', 'aana', 'aainduced', 'aaigroup', 'aachener', 'aachen', 'aaacp']\n"
     ]
    }
   ],
   "source": [
    "# tokenizacijos metu sudaryto žodyno apžvalga\n",
    "tokens_vocabulary = text_vectorizer.get_vocabulary()\n",
    "\n",
    "print(f\"Žodžių skaičius žodyne: {len(tokens_vocabulary)}\")\n",
    "print(f\"Dažniausi žodžiai: {tokens_vocabulary[:10]}\")\n",
    "print(f\"Rečiausi žodžiai: {tokens_vocabulary[-10:]}\")"
   ]
  },
  {
   "attachments": {},
   "cell_type": "markdown",
   "metadata": {},
   "source": [
    "### Tokenizuotų sakinių embedding'as"
   ]
  },
  {
   "cell_type": "code",
   "execution_count": 42,
   "metadata": {},
   "outputs": [],
   "source": [
    "#  sukuriam žodžių embedding'o sluoksnį\n",
    "token_embedder = layers.Embedding(input_dim=len(tokens_vocabulary),\n",
    "                                  output_dim=128, # rezultato vektoriaus dydis\n",
    "                                  mask_zero=True, # paslepiam vektorizuoto sakinio tuščias reikšmes\n",
    "                                  name=\"token_embedding\")"
   ]
  },
  {
   "cell_type": "code",
   "execution_count": 43,
   "metadata": {},
   "outputs": [
    {
     "name": "stdout",
     "output_type": "stream",
     "text": [
      "Originalus sakinio tekstas:\n",
      "Outcome measures included pain reduction and improvement in function scores and systemic inflammation markers .\n",
      "\n",
      "Vektorizuotas sakinio tekstas:\n",
      "[[ 86 213 121  65 169   3 194   5 149 119   3 670 636 747   0   0   0   0\n",
      "    0   0   0   0   0   0   0   0   0   0   0   0   0   0   0   0   0   0\n",
      "    0   0   0   0   0   0   0   0   0   0   0   0   0   0   0   0   0   0\n",
      "    0]]\n",
      "\n",
      "Embedded sakinio tekstas:\n",
      "[[[ 0.02589811  0.0480188   0.03676709 ...  0.00219838 -0.0253612\n",
      "   -0.03577005]\n",
      "  [ 0.03127405  0.03018196 -0.04916818 ...  0.03713046 -0.02185887\n",
      "    0.01777359]\n",
      "  [-0.04938791  0.02497231  0.02788147 ...  0.0405882   0.03712327\n",
      "    0.0191263 ]\n",
      "  ...\n",
      "  [-0.04023676  0.04245723 -0.02622317 ...  0.04884365  0.03861601\n",
      "   -0.02823491]\n",
      "  [-0.04023676  0.04245723 -0.02622317 ...  0.04884365  0.03861601\n",
      "   -0.02823491]\n",
      "  [-0.04023676  0.04245723 -0.02622317 ...  0.04884365  0.03861601\n",
      "   -0.02823491]]]\n",
      "\n",
      "Vektorizuoto sakinio formatas: (1, 55)\n",
      "Embedded sakinio formatas: (1, 55, 128)\n"
     ]
    }
   ],
   "source": [
    "# patikrinam sakinio teksto vektorizaciją kartu su token'ų embedding'u\n",
    "original_sentence = X_train[2]\n",
    "print(f\"Originalus sakinio tekstas:\\n{original_sentence}\")\n",
    "\n",
    "vectorized_sentence = text_vectorizer([original_sentence])\n",
    "print(f\"\\nVektorizuotas sakinio tekstas:\\n{vectorized_sentence}\")\n",
    "\n",
    "embedded_sentence = token_embedder(vectorized_sentence)\n",
    "print(f\"\\nEmbedded sakinio tekstas:\\n{embedded_sentence}\")\n",
    "\n",
    "print(f\"\\nVektorizuoto sakinio formatas: {vectorized_sentence.shape}\")\n",
    "print(f\"Embedded sakinio formatas: {embedded_sentence.shape}\")"
   ]
  },
  {
   "cell_type": "markdown",
   "metadata": {},
   "source": [
    "#### TensorFlow Dataset sudarymas"
   ]
  },
  {
   "attachments": {},
   "cell_type": "markdown",
   "metadata": {},
   "source": [
    "**GPU** ir **TPU** gali drastiškai sutrumpinti laiką, reikalingą vienam mokymo žingsniui atlikti. [tf.data](https://www.tensorflow.org/guide/data) API padeda sukurti efektyvias duomenų struktūras, kuriomis duomenys kitam veiksmui perduodami dar nepasibaigus dabartiniam.\n",
    "\n",
    "Santraukų sakinius ir *One Hot* koduotas etiketes sujungiam su **TesorFlow Dataset** metodu [from_tensor_slices()](https://www.tensorflow.org/api_docs/python/tf/data/Dataset#from_tensor_slices). Sudarytus *Dataset* rinkinius suskirstom į **paketus po 32** pavyzdžius naudojant [batch()](https://www.tensorflow.org/api_docs/python/tf/data/Dataset#batch), papildmai su [prefetch](https://www.tensorflow.org/api_docs/python/tf/data/Dataset#prefetch) nurodysim paruošti vėlesnius duomenis, kol apdorojamas dabartinis."
   ]
  },
  {
   "cell_type": "code",
   "execution_count": 44,
   "metadata": {},
   "outputs": [],
   "source": [
    "# turimus duomenis perkėliam į TensorFlow Dataset\n",
    "train_dataset = tf.data.Dataset.from_tensor_slices((X_train, y_train_onehot))\n",
    "test_dataset = tf.data.Dataset.from_tensor_slices((X_test, y_test_onehot))\n",
    "val_dataset = tf.data.Dataset.from_tensor_slices((X_val, y_val_onehot))"
   ]
  },
  {
   "cell_type": "code",
   "execution_count": 45,
   "metadata": {},
   "outputs": [],
   "source": [
    "# suskirstom duomenis į paketus po 32 pavyzdžius\n",
    "train_dataset = train_dataset.batch(32).prefetch(tf.data.AUTOTUNE)\n",
    "test_dataset = test_dataset.batch(32).prefetch(tf.data.AUTOTUNE)\n",
    "val_dataset = val_dataset.batch(32).prefetch(tf.data.AUTOTUNE)"
   ]
  },
  {
   "cell_type": "code",
   "execution_count": 46,
   "metadata": {},
   "outputs": [
    {
     "data": {
      "text/plain": [
       "(<PrefetchDataset element_spec=(TensorSpec(shape=(None,), dtype=tf.string, name=None), TensorSpec(shape=(None, 5), dtype=tf.float64, name=None))>,\n",
       " <PrefetchDataset element_spec=(TensorSpec(shape=(None,), dtype=tf.string, name=None), TensorSpec(shape=(None, 5), dtype=tf.float64, name=None))>,\n",
       " <PrefetchDataset element_spec=(TensorSpec(shape=(None,), dtype=tf.string, name=None), TensorSpec(shape=(None, 5), dtype=tf.float64, name=None))>)"
      ]
     },
     "execution_count": 46,
     "metadata": {},
     "output_type": "execute_result"
    }
   ],
   "source": [
    "# patikrinam sudarytus duomenų rinkinius\n",
    "train_dataset, test_dataset, val_dataset"
   ]
  },
  {
   "attachments": {},
   "cell_type": "markdown",
   "metadata": {},
   "source": [
    "### Modelio sudarymas"
   ]
  },
  {
   "cell_type": "code",
   "execution_count": 47,
   "metadata": {},
   "outputs": [],
   "source": [
    "# įvedimo sluoksnis\n",
    "inputs = layers.Input(shape=(1,), dtype=tf.string) # įvedimo sluoksnis\n",
    "\n",
    "# duomenų apdorojimo sluoksniai\n",
    "text_vectors = text_vectorizer(inputs) # vektorizuojam įvedimą\n",
    "token_embeddings = token_embedder(text_vectors) # embeddinam vektorizuotus sakinius\n",
    "\n",
    "# atliekam 64 filtrų vienmatę konvoliuciją naudojant 5 reikšmių branduolį (langą) ir sutankinam rezultatus\n",
    "x = layers.Conv1D(64, kernel_size=5, padding=\"same\", activation=\"relu\")(token_embeddings)\n",
    "x = layers.GlobalAveragePooling1D()(x)\n",
    "\n",
    "outputs = layers.Dense(units=len(etiketes), activation=\"softmax\")(x) # išvedimo sluoksnis\n",
    "\n",
    "# aprašom modelį, nurodydami įvedimo ir išvedimo sluoksnius\n",
    "model_1 = tf.keras.Model(inputs, outputs, name=\"model_1\")"
   ]
  },
  {
   "cell_type": "code",
   "execution_count": 48,
   "metadata": {},
   "outputs": [],
   "source": [
    "# sukūriam (kompiliuojam) aprašytą modelį\n",
    "model_1.compile(loss=\"categorical_crossentropy\",\n",
    "                optimizer=tf.keras.optimizers.Adam(),\n",
    "                metrics=[\"accuracy\"])"
   ]
  },
  {
   "cell_type": "code",
   "execution_count": 49,
   "metadata": {},
   "outputs": [
    {
     "name": "stdout",
     "output_type": "stream",
     "text": [
      "Model: \"model_1\"\n",
      "_________________________________________________________________\n",
      " Layer (type)                Output Shape              Param #   \n",
      "=================================================================\n",
      " input_1 (InputLayer)        [(None, 1)]               0         \n",
      "                                                                 \n",
      " text_vectorization (TextVec  (None, 55)               0         \n",
      " torization)                                                     \n",
      "                                                                 \n",
      " token_embedding (Embedding)  (None, 55, 128)          8299648   \n",
      "                                                                 \n",
      " conv1d (Conv1D)             (None, 55, 64)            41024     \n",
      "                                                                 \n",
      " global_average_pooling1d (G  (None, 64)               0         \n",
      " lobalAveragePooling1D)                                          \n",
      "                                                                 \n",
      " dense (Dense)               (None, 5)                 325       \n",
      "                                                                 \n",
      "=================================================================\n",
      "Total params: 8,340,997\n",
      "Trainable params: 8,340,997\n",
      "Non-trainable params: 0\n",
      "_________________________________________________________________\n"
     ]
    }
   ],
   "source": [
    "# išvedam sudaryto modelio struktūra\n",
    "model_1.summary()"
   ]
  },
  {
   "cell_type": "code",
   "execution_count": 50,
   "metadata": {},
   "outputs": [],
   "source": [
    "# modelio diagramos sudarymas\n",
    "# from keras.utils import plot_model\n",
    "# plot_model(model_1, show_shapes=True)"
   ]
  },
  {
   "attachments": {},
   "cell_type": "markdown",
   "metadata": {},
   "source": [
    "### Modelio mokymas"
   ]
  },
  {
   "cell_type": "markdown",
   "metadata": {},
   "source": [
    "Modelio mokyma atliksime su paruoštu *TensorFlow Dataset* duomenų rinkinių **train_dataset**, vienai epochai skirdami 10% duomenų rinkinio pavyzdžių. Įvertinimą atliksime su 10% **val_dataset** pavyzdžių.\n",
    "\n",
    "Mokysim **5 epochas**, t.y. modelis 5 kartus pamatys nurodytą kiekį mokymo pavyzdžių. Jei nenurodytas parametras *steps_per_epoch* modelis per vieną epochą pamato visus mokymo pavyzdžius.\n",
    "\n",
    ">Nurodyti mokymo parametrai pasirinkti norint kiek imanoma sutrumpinit mokymo procesą."
   ]
  },
  {
   "cell_type": "code",
   "execution_count": 51,
   "metadata": {},
   "outputs": [
    {
     "name": "stdout",
     "output_type": "stream",
     "text": [
      "Epoch 1/5\n"
     ]
    },
    {
     "name": "stderr",
     "output_type": "stream",
     "text": [
      "2023-03-16 15:25:31.719518: I tensorflow/compiler/xla/stream_executor/cuda/cuda_dnn.cc:428] Loaded cuDNN version 8100\n",
      "2023-03-16 15:25:32.282479: I tensorflow/compiler/xla/service/service.cc:173] XLA service 0x7fda28e4b440 initialized for platform CUDA (this does not guarantee that XLA will be used). Devices:\n",
      "2023-03-16 15:25:32.282506: I tensorflow/compiler/xla/service/service.cc:181]   StreamExecutor device (0): NVIDIA GeForce GTX 1060 6GB, Compute Capability 6.1\n",
      "2023-03-16 15:25:32.287067: I tensorflow/compiler/mlir/tensorflow/utils/dump_mlir_util.cc:268] disabling MLIR crash reproducer, set env var `MLIR_CRASH_REPRODUCER_DIRECTORY` to enable.\n",
      "2023-03-16 15:25:32.420679: I tensorflow/compiler/jit/xla_compilation_cache.cc:477] Compiled cluster using XLA!  This line is logged at most once for the lifetime of the process.\n"
     ]
    },
    {
     "name": "stdout",
     "output_type": "stream",
     "text": [
      "562/562 [==============================] - 28s 46ms/step - loss: 0.9215 - accuracy: 0.6382 - val_loss: 0.6853 - val_accuracy: 0.7440\n",
      "Epoch 2/5\n",
      "562/562 [==============================] - 7s 12ms/step - loss: 0.6621 - accuracy: 0.7538 - val_loss: 0.6334 - val_accuracy: 0.7716\n",
      "Epoch 3/5\n",
      "562/562 [==============================] - 5s 9ms/step - loss: 0.6220 - accuracy: 0.7717 - val_loss: 0.5989 - val_accuracy: 0.7849\n",
      "Epoch 4/5\n",
      "562/562 [==============================] - 4s 7ms/step - loss: 0.5925 - accuracy: 0.7869 - val_loss: 0.5810 - val_accuracy: 0.7872\n",
      "Epoch 5/5\n",
      "562/562 [==============================] - 5s 9ms/step - loss: 0.5924 - accuracy: 0.7906 - val_loss: 0.5597 - val_accuracy: 0.7972\n"
     ]
    }
   ],
   "source": [
    "# atliekam modelio mokinimą naudojant tik 10% duomenų paketų (batches)\n",
    "model_1_history = model_1.fit(train_dataset,\n",
    "                              steps_per_epoch=int(0.1*len(train_dataset)),\n",
    "                              epochs=5,\n",
    "                              validation_data=val_dataset,\n",
    "                              validation_steps=int(0.1*len(val_dataset)),\n",
    "                              callbacks=[tf.keras.callbacks.TensorBoard(log_dir=\"tensorboard\")])"
   ]
  },
  {
   "cell_type": "markdown",
   "metadata": {},
   "source": [
    "### Modelio vertinimas"
   ]
  },
  {
   "attachments": {},
   "cell_type": "markdown",
   "metadata": {},
   "source": [
    "**TensorFlow** modelius vertinsim šiais etapais:\n",
    "1. Mokymo (*training*) ir įvetinimo (*validation*) etapų tisklumų (*accuracy*) ir praradimų (*loss*) kreivių palyginimas\n",
    "2. Modelio tikslumo įvertinimas su testavimo (*test_dataset*) duomenimis\n",
    "3. Klasifikacijos įvertinimas su testavimo (*test_dataset*) duomenimis (*precision, recall, F1 Score*)\n",
    "\n",
    "Prieš atliekant \"Modelis 1\" vertinimą paruošime pagalbines funkcijas, kurias naudosim vertinant kitus modelius:\n",
    "- **plot_accuracy_loss_curves** - mokymo ir įvertinimo etapų praradimų (*loss*) bei tikslumų (*accuracy*) kreivių palyginimo diagramų sudarymas\n",
    "- **print_classification_results** - klasifikacijos įverčių spausdinimas"
   ]
  },
  {
   "cell_type": "code",
   "execution_count": 52,
   "metadata": {},
   "outputs": [],
   "source": [
    "def plot_accuracy_loss_curves(history, model_name):\n",
    "    \"\"\"\n",
    "    Grąžina mokymo ir įvertinimo praradimo (loss) ir tikslumo kreivių palyginimą\n",
    "\n",
    "    Args:\n",
    "        history: TensorFlow modelio History objektas, gaunamas mokinant modelį\n",
    "        model_name: modelio pavadinimas\n",
    "    \"\"\"\n",
    "\n",
    "    train_loss = history.history['loss']\n",
    "    val_loss = history.history['val_loss']\n",
    "\n",
    "    train_accuracy = history.history['accuracy']\n",
    "    val_accuracy = history.history['val_accuracy']\n",
    "\n",
    "    epochs = range(1, len(history.history['loss'])+1)\n",
    "\n",
    "    fig, ax = plt.subplots(1, 2, figsize=(15, 5))\n",
    "    fig.suptitle(f\"Modelio {model_name} mokymosi ir įvertinimo rezultatai\")\n",
    "\n",
    "    # tikslumo (accuracy) palyginimas\n",
    "    ax[0].plot(epochs, train_accuracy)\n",
    "    ax[0].plot(epochs, val_accuracy)\n",
    "    ax[0].legend(['mokymasis', 'įvertinimas'], loc='upper left')\n",
    "    ax[0].set_title(\"Tikslumų palyginimas\")\n",
    "    ax[0].set_xlabel(\"Epochos\")\n",
    "    ax[0].set_ylabel(\"Tikslumas\")\n",
    "    \n",
    "    # praradimų (loss) palyginimas\n",
    "    ax[1].plot(epochs, train_loss, label='training_loss')\n",
    "    ax[1].plot(epochs, val_loss, label='val_loss')\n",
    "    ax[1].legend(['mokymasis', 'įvertinima'], loc='upper right')\n",
    "    ax[1].set_title(\"Praradimų (loss) palyginimas\")\n",
    "    ax[1].set_xlabel(\"Epochos\")\n",
    "    ax[1].set_ylabel(\"Praradimas\")\n",
    "\n",
    "    plt.show()"
   ]
  },
  {
   "cell_type": "code",
   "execution_count": 53,
   "metadata": {},
   "outputs": [],
   "source": [
    "from sklearn.metrics import precision_recall_fscore_support\n",
    "\n",
    "def print_classification_results(y_true, y_pred, model_name):\n",
    "    \"\"\"\n",
    "    Spausdina klasifikacijos įverčius precision, recall, F1 score\n",
    "\n",
    "    Args:\n",
    "        y_true: teisingos reikšmės\n",
    "        y_pred: modelio spėtos reikšmės\n",
    "        model_name: modelio pavadinimas\n",
    "    \"\"\"\n",
    "\n",
    "    accuracy = tf.keras.metrics.Accuracy()\n",
    "    accuracy.update_state(y_true, y_pred)\n",
    "    accuracy_result = float(accuracy.result().numpy())\n",
    "    \n",
    "    precision, recall, f1score, _ = precision_recall_fscore_support(y_true, y_pred, average=\"weighted\")\n",
    "\n",
    "    print(f\"Modelio {model_name} klasifikacijos rezultatai:\")\n",
    "    print(f\"\\tAccuracy: {(accuracy_result*100):.2f}%\")\n",
    "    print(f\"\\tPrecision: {(precision*100):.2f}%\")\n",
    "    print(f\"\\tRecall: {(recall*100):.2f}%\")\n",
    "    print(f\"\\tF1 score: {(f1score*100):.2f}%\")"
   ]
  },
  {
   "cell_type": "code",
   "execution_count": 54,
   "metadata": {},
   "outputs": [
    {
     "data": {
      "image/png": "[encoded data removed]",
      "text/plain": [
       "<Figure size 1500x500 with 2 Axes>"
      ]
     },
     "metadata": {},
     "output_type": "display_data"
    }
   ],
   "source": [
    "# sudarom modelio \"Modelis 1\" vertinimo diagramas\n",
    "plot_accuracy_loss_curves(model_1_history, \"1\")"
   ]
  },
  {
   "attachments": {},
   "cell_type": "markdown",
   "metadata": {},
   "source": [
    "**Tikslumų (*accuracy*) kreivės** parodo kaip modelis po kiekvienos mokymosi epochos klasifikuoja pateiktus pavyzdžius.\n",
    "\n",
    "**Praradimų (*loss*) kreivės** rodo kaip modelis mokosi iš pateiktų duomenų:\n",
    "- **mokymosi** - kaip mokomasi iš mokymosi pavyzdžių (*train_dataset*)\n",
    "- **įvertinimo** - kaip mokomasi iš mokymosi metu nematytų pavyzdžių (*val_dataset*)\n",
    "\n",
    "Jei mokymosi *loss* kreivė kyla į viršų, galime įžvelgti modelio nesimokinimą (**underfitting**), jei įvertinimo *loss* kreivė kyla į viršų, galime įžvelgti persimokinimą (**overfitting**).\n",
    "\n"
   ]
  },
  {
   "cell_type": "code",
   "execution_count": 55,
   "metadata": {},
   "outputs": [
    {
     "name": "stdout",
     "output_type": "stream",
     "text": [
      "942/942 [==============================] - 3s 3ms/step - loss: 0.5735 - accuracy: 0.7957\n",
      "Modelio 1 tikslumas su testavimo duomenimis: 79.57%\n"
     ]
    }
   ],
   "source": [
    "# įvertinam modelį su visais vertinimo rinkinio pavyzdžiais\n",
    "loss, accuracy = model_1.evaluate(test_dataset)\n",
    "print(f\"Modelio 1 tikslumas su testavimo duomenimis: {(accuracy*100):.2f}%\")"
   ]
  },
  {
   "attachments": {},
   "cell_type": "markdown",
   "metadata": {},
   "source": [
    "><br>\n",
    "><b>Modelis 1</b> klasifikuoja santraukų sakinius ~79% tikslumu, po 4 mokymo epochų nustoja mokintis iš pateiktu pavyzdžių. <br>\n",
    "><br>"
   ]
  },
  {
   "attachments": {},
   "cell_type": "markdown",
   "metadata": {},
   "source": [
    "### Palyginimas su baziniu modeliu"
   ]
  },
  {
   "attachments": {},
   "cell_type": "markdown",
   "metadata": {},
   "source": [
    "Atliekant daugiaklasę klasifikaciją, modelis naudojant [softmax](https://www.tensorflow.org/api_docs/python/tf/keras/activations/softmax) aktyvavimo funkciją grąžina kiekvienos etiketės tikimybę. Mus domina didžiausios tikimybės indeksas, tai bus klasės indeksas etikečių sąraše, gautame etikėtes užkodavus su [scikit-learn LabelEncoder](https://scikit-learn.org/stable/modules/generated/sklearn.preprocessing.LabelEncoder.html)."
   ]
  },
  {
   "cell_type": "code",
   "execution_count": 56,
   "metadata": {},
   "outputs": [
    {
     "name": "stdout",
     "output_type": "stream",
     "text": [
      "942/942 [==============================] - 2s 2ms/step\n"
     ]
    }
   ],
   "source": [
    "#  paruošiam Modelis 1 rezultatus klasifikacijos rezultatų spausdinimui\n",
    "model_1_pred_probabilities = model_1.predict(test_dataset) # gaunam modelio tikimybes kiekvienai etiketei\n",
    "model_1_pred = tf.argmax(model_1_pred_probabilities, axis=1) # randam didžiausios tikimybės indeksą"
   ]
  },
  {
   "cell_type": "code",
   "execution_count": 57,
   "metadata": {},
   "outputs": [
    {
     "name": "stdout",
     "output_type": "stream",
     "text": [
      "Modelio 1 klasifikacijos rezultatai:\n",
      "\tAccuracy: 79.57%\n",
      "\tPrecision: 79.45%\n",
      "\tRecall: 79.57%\n",
      "\tF1 score: 79.26%\n"
     ]
    }
   ],
   "source": [
    "# spausdinam klasifikacijos rezultatą\n",
    "print_classification_results(y_true=y_test, y_pred=model_1_pred, model_name=\"1\")"
   ]
  },
  {
   "cell_type": "code",
   "execution_count": 58,
   "metadata": {},
   "outputs": [
    {
     "name": "stdout",
     "output_type": "stream",
     "text": [
      "Modelio Bazinis klasifikacijos rezultatai:\n",
      "\tAccuracy: 71.67%\n",
      "\tPrecision: 71.24%\n",
      "\tRecall: 71.67%\n",
      "\tF1 score: 69.25%\n"
     ]
    }
   ],
   "source": [
    "# spausdinam bazinio modelio klasifikacijos rezultatą\n",
    "print_classification_results(y_true=y_test, y_pred=model_0_pred, model_name=\"Bazinis\")"
   ]
  },
  {
   "attachments": {},
   "cell_type": "markdown",
   "metadata": {},
   "source": [
    "><br>\n",
    ">Modelio 1 klasifikacijos rezultatai, lyginant su Baziniu modeliu, pagerėjo ~8%. Didžiausias pokytis F1 score įverčio ~10%, kuris rodo, kad modelis pradėjo šiek tiek geriau skirti dažniausiai tarpusavyje maišytas santraukos sakinių etikėtes.<br>\n",
    "><br>"
   ]
  },
  {
   "cell_type": "code",
   "execution_count": 59,
   "metadata": {},
   "outputs": [
    {
     "data": {
      "image/png": "[encoded data removed]",
      "text/plain": [
       "<Figure size 640x480 with 1 Axes>"
      ]
     },
     "metadata": {},
     "output_type": "display_data"
    }
   ],
   "source": [
    "# Modelis 1 spėjimų (confusion) matrica\n",
    "plot_confusion_matrix(y_true=y_test, y_pred=model_1_pred, display_labels=etiketes)"
   ]
  },
  {
   "cell_type": "code",
   "execution_count": 60,
   "metadata": {},
   "outputs": [
    {
     "data": {
      "image/png": "[encoded data removed]",
      "text/plain": [
       "<Figure size 640x480 with 1 Axes>"
      ]
     },
     "metadata": {},
     "output_type": "display_data"
    }
   ],
   "source": [
    "# Modelis 0 spėjimų (confusion) matrica\n",
    "plot_confusion_matrix(y_true=y_test, y_pred=model_0_pred, display_labels=etiketes)"
   ]
  },
  {
   "attachments": {},
   "cell_type": "markdown",
   "metadata": {},
   "source": [
    "><br>\n",
    ">Pagal spėjimų (<i>confusion</i>) matricas <b>Modelis 1</b> teisingiau parenka <b>BACKGROUND</b>, <b>CONCLUSIONS</b> ir <b>METHODS</b>, žymiai tiksliau pradėjo klasifikuoti sakinius su <b>OBJECTIVE</b> etikėte. Tačiau etikėtę <b>RESULTS</b> pradėjo dažniau maišyti su <b>CONCLUSIONS</b><br>\n",
    "><br>"
   ]
  },
  {
   "attachments": {},
   "cell_type": "markdown",
   "metadata": {},
   "source": [
    "---"
   ]
  },
  {
   "attachments": {},
   "cell_type": "markdown",
   "metadata": {},
   "source": [
    "## Modelis 2: Feature extraction with pretrained token embeddings"
   ]
  },
  {
   "attachments": {},
   "cell_type": "markdown",
   "metadata": {},
   "source": [
    "Antrą TensorFlow modelį sudarysime panaudoje kitą iš anksto paruoštą modelį kaip mūsų užduoties pradžios tašką. Toks ANN sudarymo metodas vadinamas **mokymosi perkėlimų** (*transfer learning*).\n",
    "\n",
    "Modelis 2 bus sudarytas Modelis 1 pagrindu, tačiau pakeičiant santraukų sakinių teksto vektorizacijos sluoksnius kitais paruoštais iš anksto.\n",
    "\n",
    "Dokumente [**Neural Networks for Joint Sentence Classification in Medical Paper Abstracts**](https://arxiv.org/pdf/1612.05251), kuriuo remiantis atliekama užduotis, šiam tiklsui buvo naudojamas [GloVe](https://nlp.stanford.edu/projects/glove/) embedding'as. Mūsų atveju bus naudojamas panašus, bet naujesnis modelis, kuri galim rasti [TensorFlow Hub](https://www.tensorflow.org/hub) repozitorijoje, tai [Universal Sentence Encoder (v4)](https://tfhub.dev/google/universal-sentence-encoder/4)."
   ]
  },
  {
   "attachments": {},
   "cell_type": "markdown",
   "metadata": {},
   "source": [
    "### Universal Sentence Encoder paruošimas modeliui"
   ]
  },
  {
   "cell_type": "code",
   "execution_count": 61,
   "metadata": {},
   "outputs": [],
   "source": [
    "import tensorflow_hub as hub\n",
    "\n",
    "# atsisiunčiam if TF Hub Universal Sentence Encoder\n",
    "use_embedder_layer = hub.KerasLayer(\"https://tfhub.dev/google/universal-sentence-encoder/4\", # nuoroda į iš anksto apmokyta modelį\n",
    "                                    trainable=False, # nurodome nekeisti modelio išmoktų savybių\n",
    "                                    name=\"universal_sentence_encoder\")"
   ]
  },
  {
   "cell_type": "code",
   "execution_count": 64,
   "metadata": {},
   "outputs": [
    {
     "name": "stdout",
     "output_type": "stream",
     "text": [
      "Originalus sakinio tekstas:\n",
      "Outcome measures included pain reduction and improvement in function scores and systemic inflammation markers .\n",
      "\n",
      "Embedded sakinio tekstas:\n",
      "[[-0.03213719 -0.0575342   0.01531491 -0.05842334 -0.01752246  0.04761694\n",
      "  -0.06377345  0.01332157  0.00713374  0.07151652  0.06588907 -0.07033636\n",
      "  -0.02220712  0.00944613 -0.00226983 -0.02005817 -0.05543547  0.04410325\n",
      "  -0.0367398  -0.01640121  0.04783256  0.08097818 -0.02554445  0.02655391\n",
      "   0.04831062 -0.04355301  0.06009774  0.02457012  0.0351282   0.02323082\n",
      "  -0.02681094  0.06625807  0.06900754 -0.02099541 -0.0474609   0.04555489\n",
      "  -0.0001802  -0.00470592  0.06078607 -0.04961505 -0.07365108  0.03713048\n",
      "   0.04230668 -0.04472004 -0.00967145 -0.06212262 -0.05969517 -0.0295636\n",
      "   0.04998932  0.01824021 -0.03833312  0.00759322 -0.04730165 -0.02012262\n",
      "   0.02840566  0.01506102  0.00490207  0.03297986  0.02609314  0.0170767\n",
      "  -0.02390434  0.04284322  0.04884221  0.04468543  0.0324529  -0.02413251\n",
      "   0.07125776 -0.04209863 -0.00496747 -0.04948492  0.07864224  0.06584632\n",
      "   0.05593358  0.03737206  0.00219585  0.03826353  0.02969033 -0.03688163\n",
      "  -0.05996544 -0.02869985 -0.0248849  -0.01214049  0.06790031  0.04981357\n",
      "   0.00967417  0.0214679  -0.00699219 -0.06536014  0.00842464  0.04776686\n",
      "   0.0632899  -0.00624926  0.03567657 -0.00729226  0.00597012 -0.00089926\n",
      "   0.05264768  0.07120023 -0.06032401 -0.07789783 -0.02181337 -0.00247249\n",
      "  -0.03048647  0.03449116  0.02527391  0.05668226 -0.03900113  0.02591826\n",
      "   0.02490201 -0.02993194 -0.00750011 -0.04693412 -0.00652894  0.01729887\n",
      "   0.055537   -0.00613934  0.02510211 -0.03633851  0.02722146 -0.00946871\n",
      "   0.07029993  0.01826724 -0.06009979  0.06027224  0.0493917  -0.07024013\n",
      "  -0.05246566  0.06633491  0.04255784  0.01176295 -0.07610654  0.02634395\n",
      "  -0.04181945 -0.02432445  0.0279314  -0.03411566 -0.02046356  0.04933637\n",
      "  -0.03137951  0.00152483  0.06348363  0.06053033 -0.02037917 -0.02601087\n",
      "  -0.00782538 -0.02326462  0.03814163 -0.07472373  0.03130941  0.06297015\n",
      "   0.07602257 -0.0281957  -0.06424925 -0.08012309  0.07470783  0.05908304\n",
      "  -0.03864101  0.0268661  -0.03408495  0.01298055 -0.00569569 -0.06933191\n",
      "  -0.01429723  0.0576244   0.07001054 -0.04986855 -0.06660441 -0.04320594\n",
      "   0.00274546 -0.04323411  0.06026274 -0.07727239  0.006792    0.03030576\n",
      "  -0.02988786 -0.03893121 -0.06414286  0.03172505  0.05105287  0.04085368\n",
      "  -0.06454161 -0.04584489 -0.00267268 -0.07403279  0.03239717 -0.01054924\n",
      "   0.03546491 -0.0054156   0.01822283 -0.02768198  0.05444343  0.01299579\n",
      "  -0.04723416  0.02513446 -0.06432498 -0.00160158  0.02329349  0.07109407\n",
      "   0.01096104 -0.05215062  0.05236026  0.03452012  0.00569889  0.04996214\n",
      "  -0.02948932 -0.025449    0.06237787 -0.01565974  0.02770619  0.00311284\n",
      "  -0.02350366 -0.06333359 -0.06259224 -0.000298    0.04057361 -0.05652727\n",
      "   0.04503329  0.03907654  0.06124252  0.06815665  0.00094688 -0.0592035\n",
      "   0.01961834 -0.01196982 -0.05835237  0.03201883  0.01807584  0.05613239\n",
      "   0.06669804 -0.01728665  0.01597864 -0.010792   -0.04842062  0.06908698\n",
      "  -0.01437702  0.04675014  0.05712324  0.03362674 -0.05013791  0.07300259\n",
      "   0.03942915  0.06033634 -0.06175509 -0.03718466 -0.01896761  0.03447796\n",
      "  -0.02070894 -0.06153463 -0.01750832 -0.04120336  0.00306346  0.04031292\n",
      "   0.00058094 -0.03175005  0.0046018  -0.04647366 -0.04159393  0.04138259\n",
      "   0.07204814  0.03670242  0.04622653 -0.07337859 -0.03850137 -0.01117959\n",
      "  -0.05648224 -0.06689542 -0.05953705 -0.01352556 -0.02310468 -0.05921227\n",
      "  -0.03755664 -0.03713175 -0.00339574 -0.01181703 -0.01483794 -0.0421949\n",
      "  -0.01392262 -0.05387623 -0.00106546 -0.04624914  0.02370651  0.05564144\n",
      "   0.06447878  0.03489472  0.05305435 -0.01358149  0.0185031   0.06874583\n",
      "  -0.05742877  0.05263825 -0.06742525  0.0247692  -0.07888698  0.00490074\n",
      "   0.02616288 -0.01386926 -0.03047097  0.02534059  0.07567979 -0.00361351\n",
      "   0.0160431   0.03007282  0.05273578 -0.0500919  -0.04492806  0.06497457\n",
      "  -0.00418582  0.03716318  0.05892703 -0.04273246 -0.03819184  0.07625342\n",
      "   0.04313417  0.01646876  0.00323479 -0.04535087  0.00271282  0.07076938\n",
      "   0.00202246 -0.01193419  0.00945009 -0.06851854 -0.01427818  0.03197998\n",
      "  -0.02652609  0.07137582  0.05337204 -0.04882681 -0.08210459  0.08088287\n",
      "   0.0293054  -0.03511323  0.07744078 -0.02004804 -0.0097634  -0.02703012\n",
      "   0.03360748 -0.04632735 -0.00657124 -0.08234274 -0.01161839  0.00218942\n",
      "   0.02385332 -0.05801098  0.00380862  0.04714123 -0.04875491  0.01722087\n",
      "  -0.03887033  0.04346129 -0.02952515 -0.00885642  0.01471461 -0.03175881\n",
      "   0.06956742  0.00704648 -0.01052709 -0.02558198 -0.06420033  0.02249712\n",
      "   0.04651237  0.06950836 -0.07248239 -0.07020558 -0.00709788  0.01204345\n",
      "  -0.03065967  0.02795934  0.04802968 -0.0330924  -0.0563638   0.04198613\n",
      "  -0.07107839  0.00195819  0.04300038 -0.03974656 -0.04802543 -0.00691843\n",
      "  -0.01703307  0.04587317  0.02446852 -0.01116449 -0.03647359  0.04862667\n",
      "  -0.01094918  0.06814842  0.05541243 -0.05187592 -0.03539503 -0.04899582\n",
      "   0.03393687  0.04851715 -0.0337273   0.0558018   0.04705206 -0.05472238\n",
      "   0.0635326  -0.059758    0.00976489 -0.04573418  0.07888523  0.0267712\n",
      "  -0.01997914  0.06105102 -0.03876316 -0.07057365  0.02830753 -0.01542621\n",
      "   0.05406121  0.00873485 -0.04046001  0.08001208  0.03270317  0.07863782\n",
      "   0.01284833 -0.06047344  0.07586644 -0.04999729 -0.02631725 -0.06593733\n",
      "   0.07633185 -0.03054565  0.02217866 -0.07622816  0.06055374 -0.05754183\n",
      "   0.04124239  0.04360191 -0.0475408   0.00273998 -0.04751715  0.05746523\n",
      "   0.06931994 -0.06737844  0.01210613  0.01835789 -0.02576394 -0.02408077\n",
      "   0.07371213 -0.06454495  0.01999134  0.01977492  0.02211716  0.06987717\n",
      "   0.0636303  -0.00258811  0.0534858  -0.07418969  0.05990224 -0.03384329\n",
      "  -0.05304761 -0.03877485 -0.03861547 -0.00219039  0.01781019  0.02463188\n",
      "   0.00901769 -0.00968543 -0.00990654  0.07412054  0.06616633 -0.01592401\n",
      "   0.01969649  0.04404612 -0.01860228 -0.05067541  0.04926739 -0.02855601\n",
      "  -0.0638947  -0.0145338   0.06970878  0.07360187 -0.0340983   0.06135566\n",
      "   0.01511417  0.01210842  0.02520157 -0.02390539  0.05020821 -0.04182491\n",
      "   0.01307417  0.04424197 -0.02114351  0.01041187 -0.07523039  0.00665252\n",
      "   0.03442156 -0.06161103 -0.02068057  0.06655187 -0.02463697  0.0204105\n",
      "   0.01451446  0.06830085  0.06035247  0.01898324  0.0267878  -0.06009691\n",
      "   0.01078767  0.07243934 -0.03902467 -0.00580304  0.0450782  -0.03578282\n",
      "   0.02518196 -0.08075615  0.04215388  0.07286998  0.01989434 -0.02328252\n",
      "  -0.02069472  0.03790558]]\n",
      "\n",
      "Embedded sakinio formatas: (1, 512)\n"
     ]
    }
   ],
   "source": [
    "# testuojam atsisiųstą USE\n",
    "original_sentence = X_train[2]\n",
    "print(f\"Originalus sakinio tekstas:\\n{original_sentence}\")\n",
    "\n",
    "use_embedded_sentence = use_embedder_layer([original_sentence])\n",
    "print(f\"\\nEmbedded sakinio tekstas:\\n{use_embedded_sentence}\")\n",
    "print(f\"\\nEmbedded sakinio formatas: {use_embedded_sentence.shape}\")"
   ]
  },
  {
   "cell_type": "code",
   "execution_count": null,
   "metadata": {},
   "outputs": [],
   "source": []
  }
 ],
 "metadata": {
  "kernelspec": {
   "display_name": "tf-py38",
   "language": "python",
   "name": "python3"
  },
  "language_info": {
   "codemirror_mode": {
    "name": "ipython",
    "version": 3
   },
   "file_extension": ".py",
   "mimetype": "text/x-python",
   "name": "python",
   "nbconvert_exporter": "python",
   "pygments_lexer": "ipython3",
   "version": "3.8.15"
  },
  "orig_nbformat": 4
 },
 "nbformat": 4,
 "nbformat_minor": 2
}
