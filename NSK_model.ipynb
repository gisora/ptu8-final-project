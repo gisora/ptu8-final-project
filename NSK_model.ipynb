{
 "cells": [
  {
   "cell_type": "markdown",
   "metadata": {},
   "source": [
    "# Nuoseklių sakinių klasifikavimas atsitiktinių imčių medicininių tyrimų santraukose"
   ]
  },
  {
   "cell_type": "markdown",
   "metadata": {},
   "source": [
    "## Modelis 6: Fitting best performing model with all examples of training dataset"
   ]
  },
  {
   "cell_type": "code",
   "execution_count": null,
   "metadata": {
    "vscode": {
     "languageId": "plaintext"
    }
   },
   "outputs": [],
   "source": [
    "## Bibliotekų importavimas"
   ]
  },
  {
   "cell_type": "code",
   "execution_count": null,
   "metadata": {
    "vscode": {
     "languageId": "plaintext"
    }
   },
   "outputs": [],
   "source": []
  },
  {
   "cell_type": "code",
   "execution_count": null,
   "metadata": {
    "vscode": {
     "languageId": "plaintext"
    }
   },
   "outputs": [],
   "source": [
    "# išjungiam TensorFlow įspėjimų (warnings) vaizdavimą rezultatuose\n",
    "tf.compat.v1.logging.set_verbosity(tf.compat.v1.logging.ERROR)\n",
    "\n",
    "# glabalios TensorFlow random seed reikšmės nustatymas\n",
    "tf.random.set_seed(42)"
   ]
  },
  {
   "cell_type": "code",
   "execution_count": null,
   "metadata": {
    "vscode": {
     "languageId": "plaintext"
    }
   },
   "outputs": [],
   "source": [
    "## Konstantos gautos eksperimentavimo metu"
   ]
  },
  {
   "cell_type": "code",
   "execution_count": null,
   "metadata": {
    "vscode": {
     "languageId": "plaintext"
    }
   },
   "outputs": [],
   "source": [
    "\n",
    "output_sentence_len = 55\n",
    "\n",
    "output_sentence_chars_len = 290\n",
    "max_char_tokens = 28\n",
    "\n",
    "line_numbers_depth = 17\n",
    "sentences_total_depth = 22\n"
   ]
  },
  {
   "cell_type": "code",
   "execution_count": null,
   "metadata": {
    "vscode": {
     "languageId": "plaintext"
    }
   },
   "outputs": [],
   "source": [
    "## Duomenų paruošimas"
   ]
  },
  {
   "cell_type": "code",
   "execution_count": null,
   "metadata": {
    "vscode": {
     "languageId": "plaintext"
    }
   },
   "outputs": [],
   "source": []
  },
  {
   "cell_type": "code",
   "execution_count": null,
   "metadata": {
    "vscode": {
     "languageId": "plaintext"
    }
   },
   "outputs": [],
   "source": [
    "### Universal Sentence Encoder paruošimas modeliui"
   ]
  },
  {
   "cell_type": "code",
   "execution_count": null,
   "metadata": {
    "vscode": {
     "languageId": "plaintext"
    }
   },
   "outputs": [],
   "source": [
    "# importuojam TensorFlow Hub modulį\n",
    "import tensorflow_hub as hub\n",
    "\n",
    "# atsisiunčiam if TF Hub Universal Sentence Encoder\n",
    "use_embedder_layer = hub.KerasLayer(\"https://tfhub.dev/google/universal-sentence-encoder/4\", # nuoroda į iš anksto apmokyta modelį\n",
    "                                    trainable=False, # nurodome nekeisti modelio išmoktų savybių\n",
    "                                    name=\"universal_sentence_encoder\")"
   ]
  },
  {
   "cell_type": "code",
   "execution_count": null,
   "metadata": {
    "vscode": {
     "languageId": "plaintext"
    }
   },
   "outputs": [],
   "source": [
    "# sakinių numerių kodavimas su tf.one_hot\n",
    "train_line_numbers_onehot = tf.one_hot(train_df[\"number\"].to_numpy(), depth=line_numbers_depth)\n",
    "test_line_numbers_onehot = tf.one_hot(test_df[\"number\"].to_numpy(), depth=line_numbers_depth)\n",
    "val_line_numbers_onehot = tf.one_hot(val_df[\"number\"].to_numpy(), depth=line_numbers_depth)"
   ]
  },
  {
   "cell_type": "code",
   "execution_count": null,
   "metadata": {
    "vscode": {
     "languageId": "plaintext"
    }
   },
   "outputs": [],
   "source": [
    "Dokumente \"[**Neural Networks for Joint Sentence Classification in Medical Paper Abstracts**](https://arxiv.org/pdf/1612.05251)\" sudarytas ANN modelis pasiekė 89.9% tikslumą po mokymo su visais **PubMed 20k RCT** rinkinio pavyzdžiais. Mūsų geriausias Modelis 5, mokytas su 10% **PubMed 20k RCT** pavyzdžių, santraukų sakinių klasifikaciją atlieka ~85.6% tikslumu.\n",
    "\n",
    "Šiame etape sudarysim Modelį 6, kuris bus Modelis 5 apmokytas su visais **PubMed 20k RCT** rinkinio pavyzdžiais, mokymą atliekant daugiau nei 5 epochas. Galime susidurti su situacija, kai modelis pradės mokytis iš \"*triukšmo*\", t.y. po kelis kartus pamatys labai panašius ar net tuos pačius mokymosi pavyzdžius, tai galima pastebėti praradimų (*loss*) kreivių palyginime, kai skirtumas tarp mokymo ir įvertinimo praradimų kreivių staigiai didėja.\n",
    "\n",
    "Norint išvengti bereikalingo mokymosi iš triukšmo, sudarysime dvi papildomas [TensorFlow Callbacks](https://www.tensorflow.org/api_docs/python/tf/keras/callbacks) funkcijas:\n",
    "- [ModelCheckpoint](https://www.tensorflow.org/api_docs/python/tf/keras/callbacks/ModelCheckpoint) - po kiekvienos epochos išsaugos modelio mokymosi parametrų (*weights*) stadiją jei stebimas parametras pagerėjo.\n",
    "- [EarlyStopping](https://www.tensorflow.org/api_docs/python/tf/keras/callbacks/EarlyStopping) - sustabdys tolesnį modelio mokymasi, jei stebimas parametras per nurodytą skaičių mokymosi epochų nepagerėjo."
   ]
  },
  {
   "cell_type": "code",
   "execution_count": null,
   "metadata": {
    "vscode": {
     "languageId": "plaintext"
    }
   },
   "outputs": [],
   "source": [
    "# TensorBoard callback funkcijos sudarymas\n",
    "tensorboard_callback = tf.keras.callbacks.TensorBoard(\n",
    "    log_dir=\"tensorboard\",  # aplankas kur saugoti log failus\n",
    ")"
   ]
  },
  {
   "cell_type": "code",
   "execution_count": null,
   "metadata": {
    "vscode": {
     "languageId": "plaintext"
    }
   },
   "outputs": [],
   "source": [
    "# ModelCheckpoint callback funkcijos sudarymas\n",
    "model_checkpoint_callback = tf.keras.callbacks.ModelCheckpoint(\n",
    "    filepath=\"checkpoints/m6.ckpt\", # failo, kuriame saugosime atskaitos tašką pavadinimas\n",
    "    monitor=\"val_accuracy\",         # stebimas parametras, kurio atžvilgiu kursime taškus (įvertinimo tikslumas)\n",
    "    verbose=0,                      # išjungiam funkcijos pranešimus\n",
    "    save_best_only=True,            # nurodom saugoti tik modelį esant geriausiam stebimam parametrui\n",
    "    save_weights_only=True,         # saugojam tik įverčius, bet ne visą modelį\n",
    "    save_freq='epoch',              # kaip dažnai vertinti stebimą parametrą\n",
    ")"
   ]
  },
  {
   "cell_type": "code",
   "execution_count": null,
   "metadata": {
    "vscode": {
     "languageId": "plaintext"
    }
   },
   "outputs": [],
   "source": [
    "# EarlyStopping callback fnkcijos sudarymas\n",
    "early_stopping_callback = tf.keras.callbacks.EarlyStopping(\n",
    "    monitor=\"val_loss\",         # parametras, kurio pokyčiai bus stebimi\n",
    "    min_delta=0.001,            # dydis nurodantis koks mažiausias stebimo parametro teigiamas pokytis yra priimtinas\n",
    "    patience=5,                 # kiek epochų laukti stebimo parametro pokyčio, prieš sustabdant mokymą\n",
    "    verbose=0,                  # išjungiam funkcijos pranešimus\n",
    "    restore_best_weights=True,  # atstatyti modelio stadiją su geriausiasiais mokymosi rezultatais\n",
    ")"
   ]
  },
  {
   "cell_type": "code",
   "execution_count": null,
   "metadata": {
    "vscode": {
     "languageId": "plaintext"
    }
   },
   "outputs": [],
   "source": [
    "# Modelio 5 klonavimas\n",
    "model_6 = tf.keras.models.clone_model(model_5)\n",
    "model_6.set_weights(model_5.get_weights())\n",
    "model_6._name = \"model_6\""
   ]
  },
  {
   "cell_type": "code",
   "execution_count": null,
   "metadata": {
    "vscode": {
     "languageId": "plaintext"
    }
   },
   "outputs": [],
   "source": [
    "# išvedam sudaryto modelio struktūrą\n",
    "model_6.summary()"
   ]
  },
  {
   "cell_type": "code",
   "execution_count": null,
   "metadata": {
    "vscode": {
     "languageId": "plaintext"
    }
   },
   "outputs": [],
   "source": [
    "# sukūriam (kompiliuojam) aprašytą modelį\n",
    "model_6.compile(loss=tf.keras.losses.CategoricalCrossentropy(label_smoothing=0.1),\n",
    "                optimizer=tf.keras.optimizers.Adam(),\n",
    "                metrics=[\"accuracy\"])"
   ]
  },
  {
   "cell_type": "code",
   "execution_count": null,
   "metadata": {
    "vscode": {
     "languageId": "plaintext"
    }
   },
   "outputs": [],
   "source": [
    "# sudarom modelio \"Modelis 6\" vertinimo diagramas\n",
    "plot_accuracy_loss_curves(model_6_history, \"6\")"
   ]
  },
  {
   "cell_type": "code",
   "execution_count": null,
   "metadata": {
    "vscode": {
     "languageId": "plaintext"
    }
   },
   "outputs": [],
   "source": [
    "# įvertinam modelį su visais testavimo rinkinio pavyzdžiais\n",
    "# su visais training 20k pavyzdziu apmokytas modelis evaluatina 85.15%\n",
    "loss, accuracy = model_6.evaluate(test_tokens_chars_pos_dataset)\n",
    "print(f\"Modelio 6 tikslumas su testavimo duomenimis: {(accuracy*100):.2f}%\")"
   ]
  }
 ],
 "metadata": {
  "language_info": {
   "name": "python"
  },
  "orig_nbformat": 4
 },
 "nbformat": 4,
 "nbformat_minor": 2
}
